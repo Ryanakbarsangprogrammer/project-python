{
  "nbformat": 4,
  "nbformat_minor": 0,
  "metadata": {
    "colab": {
      "provenance": []
    },
    "kernelspec": {
      "name": "python3",
      "display_name": "Python 3"
    },
    "language_info": {
      "name": "python"
    }
  },
  "cells": [
    {
      "cell_type": "code",
      "execution_count": null,
      "metadata": {
        "id": "Hqhhn67kCk6c",
        "colab": {
          "base_uri": "https://localhost:8080/"
        },
        "outputId": "73779525-5263-46d7-98c7-e48ef0bd59f5"
      },
      "outputs": [
        {
          "output_type": "stream",
          "name": "stdout",
          "text": [
            "2.17.0\n"
          ]
        }
      ],
      "source": [
        "# First deep learning\n",
        "import tensorflow as tf\n",
        "print(tf.__version__)"
      ]
    },
    {
      "cell_type": "code",
      "source": [
        "scalar = tf.constant(8)\n",
        "scalar"
      ],
      "metadata": {
        "id": "XH1QZYXmScDR",
        "colab": {
          "base_uri": "https://localhost:8080/"
        },
        "outputId": "e729af0d-9480-47d8-c45d-9152e2675c46"
      },
      "execution_count": null,
      "outputs": [
        {
          "output_type": "execute_result",
          "data": {
            "text/plain": [
              "<tf.Tensor: shape=(), dtype=int32, numpy=8>"
            ]
          },
          "metadata": {},
          "execution_count": 2
        }
      ]
    },
    {
      "cell_type": "code",
      "source": [
        "scalar.ndim"
      ],
      "metadata": {
        "id": "xu5tBovhUIlz",
        "colab": {
          "base_uri": "https://localhost:8080/"
        },
        "outputId": "6ff5f665-247c-4712-e058-fad60a3c2203"
      },
      "execution_count": null,
      "outputs": [
        {
          "output_type": "execute_result",
          "data": {
            "text/plain": [
              "0"
            ]
          },
          "metadata": {},
          "execution_count": 3
        }
      ]
    },
    {
      "cell_type": "code",
      "source": [
        "vector = tf.constant([2,7])\n",
        "vector"
      ],
      "metadata": {
        "id": "HvlJx1loUMJB",
        "colab": {
          "base_uri": "https://localhost:8080/"
        },
        "outputId": "ad95153c-8fd2-41eb-9318-c08ac76d52b0"
      },
      "execution_count": null,
      "outputs": [
        {
          "output_type": "execute_result",
          "data": {
            "text/plain": [
              "<tf.Tensor: shape=(2,), dtype=int32, numpy=array([2, 7], dtype=int32)>"
            ]
          },
          "metadata": {},
          "execution_count": 4
        }
      ]
    },
    {
      "cell_type": "code",
      "source": [
        "vector.ndim"
      ],
      "metadata": {
        "id": "UoqloRJIUfh8",
        "colab": {
          "base_uri": "https://localhost:8080/"
        },
        "outputId": "8ff19385-a040-4b14-e39e-1103227add02"
      },
      "execution_count": null,
      "outputs": [
        {
          "output_type": "execute_result",
          "data": {
            "text/plain": [
              "1"
            ]
          },
          "metadata": {},
          "execution_count": 5
        }
      ]
    },
    {
      "cell_type": "code",
      "source": [
        "matrix = tf.constant([[2,6,8],\n",
        "                     [3,2,1],\n",
        "                     [4,2,5]])\n",
        "\n",
        "matrix"
      ],
      "metadata": {
        "id": "CedwOUB7UmoN",
        "colab": {
          "base_uri": "https://localhost:8080/"
        },
        "outputId": "6a52f5d5-e2b6-4be7-bb53-214edf449774"
      },
      "execution_count": null,
      "outputs": [
        {
          "output_type": "execute_result",
          "data": {
            "text/plain": [
              "<tf.Tensor: shape=(3, 3), dtype=int32, numpy=\n",
              "array([[2, 6, 8],\n",
              "       [3, 2, 1],\n",
              "       [4, 2, 5]], dtype=int32)>"
            ]
          },
          "metadata": {},
          "execution_count": 6
        }
      ]
    },
    {
      "cell_type": "code",
      "source": [
        "matrix.ndim"
      ],
      "metadata": {
        "id": "J6f2lEKtU_BF",
        "colab": {
          "base_uri": "https://localhost:8080/"
        },
        "outputId": "a8a11fbb-c299-48a1-a46a-1b54a6cc1723"
      },
      "execution_count": null,
      "outputs": [
        {
          "output_type": "execute_result",
          "data": {
            "text/plain": [
              "2"
            ]
          },
          "metadata": {},
          "execution_count": 7
        }
      ]
    },
    {
      "cell_type": "code",
      "source": [
        "tensor = tf.constant([[[2.5, 3.4, 7.6, 5.4],\n",
        "                      [2.3, 7.8, 9.2, 7.4],\n",
        "                      [2.6, 8.4, 3.3, 2.1]],\n",
        "\n",
        "                     [[2.3, 6.7, 8.8, 9.7],\n",
        "                      [3.4, 2.2, 4.2, 5.1],\n",
        "                      [9.8, 6.7, 8.2, 2.6]],\n",
        "\n",
        "                     [[2.3, 1.4, 5.3, 8.9],\n",
        "                      [3.2, 1.5, 7.6, 8.9],\n",
        "                      [2.8, 5.8, 9.3, 7.8]]],dtype=tf.float16)\n",
        "\n",
        "tensor"
      ],
      "metadata": {
        "id": "4tYRth6ZXpwz",
        "colab": {
          "base_uri": "https://localhost:8080/"
        },
        "outputId": "e3712c82-8bde-4dc2-caa4-2de27f292deb"
      },
      "execution_count": null,
      "outputs": [
        {
          "output_type": "execute_result",
          "data": {
            "text/plain": [
              "<tf.Tensor: shape=(3, 3, 4), dtype=float16, numpy=\n",
              "array([[[2.5, 3.4, 7.6, 5.4],\n",
              "        [2.3, 7.8, 9.2, 7.4],\n",
              "        [2.6, 8.4, 3.3, 2.1]],\n",
              "\n",
              "       [[2.3, 6.7, 8.8, 9.7],\n",
              "        [3.4, 2.2, 4.2, 5.1],\n",
              "        [9.8, 6.7, 8.2, 2.6]],\n",
              "\n",
              "       [[2.3, 1.4, 5.3, 8.9],\n",
              "        [3.2, 1.5, 7.6, 8.9],\n",
              "        [2.8, 5.8, 9.3, 7.8]]], dtype=float16)>"
            ]
          },
          "metadata": {},
          "execution_count": 8
        }
      ]
    },
    {
      "cell_type": "code",
      "source": [
        "tensor.ndim"
      ],
      "metadata": {
        "id": "z2v3Pd9tZRwd",
        "colab": {
          "base_uri": "https://localhost:8080/"
        },
        "outputId": "6e82f1df-46e3-4ea3-a086-f7d4b7a6f594"
      },
      "execution_count": null,
      "outputs": [
        {
          "output_type": "execute_result",
          "data": {
            "text/plain": [
              "3"
            ]
          },
          "metadata": {},
          "execution_count": 9
        }
      ]
    },
    {
      "cell_type": "markdown",
      "source": [
        "### MEMBUAT TENSOR MENGGUNAKAN tf.Variable\n",
        "\n",
        "kali ini saya akan membuat tensor menggunakan tf.Variable dan juga saya akan mengubah elemen dalam tensor, yaitu menggunakan 2 method yaitu tf.constant dan tf.Variable"
      ],
      "metadata": {
        "id": "eeFj-9x7ZiV7"
      }
    },
    {
      "cell_type": "code",
      "source": [
        "# Membuat tensor dengan tf.Variable\n",
        "\n",
        "tensor_bisa_diubah = tf.Variable([10,7,8,9,6])\n",
        "tensor_tidak_bisa_diubah = tf.constant([10,7,8,9,6])\n",
        "tensor_bisa_diubah, tensor_tidak_bisa_diubah\n",
        "\n"
      ],
      "metadata": {
        "id": "-VXABVDWZu-A",
        "colab": {
          "base_uri": "https://localhost:8080/"
        },
        "outputId": "4128288c-b8b8-4ecc-ab58-101758b96a84"
      },
      "execution_count": null,
      "outputs": [
        {
          "output_type": "execute_result",
          "data": {
            "text/plain": [
              "(<tf.Variable 'Variable:0' shape=(5,) dtype=int32, numpy=array([10,  7,  8,  9,  6], dtype=int32)>,\n",
              " <tf.Tensor: shape=(5,), dtype=int32, numpy=array([10,  7,  8,  9,  6], dtype=int32)>)"
            ]
          },
          "metadata": {},
          "execution_count": 10
        }
      ]
    },
    {
      "cell_type": "code",
      "source": [
        "# sekarang kita ubah semua elemen tf.Variable\n",
        "tensor_bisa_diubah.assign([1,2,3,4,5])\n",
        "tensor_bisa_diubah"
      ],
      "metadata": {
        "id": "iXwJAkQ7a3Ho",
        "colab": {
          "base_uri": "https://localhost:8080/"
        },
        "outputId": "4329604e-4499-4480-e340-5aed0f31290d"
      },
      "execution_count": null,
      "outputs": [
        {
          "output_type": "execute_result",
          "data": {
            "text/plain": [
              "<tf.Variable 'Variable:0' shape=(5,) dtype=int32, numpy=array([1, 2, 3, 4, 5], dtype=int32)>"
            ]
          },
          "metadata": {},
          "execution_count": 11
        }
      ]
    },
    {
      "cell_type": "code",
      "source": [
        "# sekarang kita ubah salah satu elemen tf.Variable\n",
        "tensor_bisa_diubah[1].assign(9)\n",
        "tensor_bisa_diubah"
      ],
      "metadata": {
        "id": "6A9dLNqJcImY",
        "colab": {
          "base_uri": "https://localhost:8080/"
        },
        "outputId": "dd21283d-701a-4e1c-a23b-9ace120e584b"
      },
      "execution_count": null,
      "outputs": [
        {
          "output_type": "execute_result",
          "data": {
            "text/plain": [
              "<tf.Variable 'Variable:0' shape=(5,) dtype=int32, numpy=array([1, 9, 3, 4, 5], dtype=int32)>"
            ]
          },
          "metadata": {},
          "execution_count": 12
        }
      ]
    },
    {
      "cell_type": "code",
      "source": [
        "# sekarang kita ubah elemen tf.constant\n",
        "tensor_tidak_bisa_diubah.assign([1,2,3,4,5])\n",
        "tensor_tidak_bisa_diubah"
      ],
      "metadata": {
        "id": "0h-HjxiwbXUA",
        "colab": {
          "base_uri": "https://localhost:8080/",
          "height": 297
        },
        "outputId": "841bf996-5902-4297-cdcb-de2b2d7d1e45"
      },
      "execution_count": null,
      "outputs": [
        {
          "output_type": "error",
          "ename": "AttributeError",
          "evalue": "'tensorflow.python.framework.ops.EagerTensor' object has no attribute 'assign'",
          "traceback": [
            "\u001b[0;31m---------------------------------------------------------------------------\u001b[0m",
            "\u001b[0;31mAttributeError\u001b[0m                            Traceback (most recent call last)",
            "\u001b[0;32m<ipython-input-13-b6fc9b50e2df>\u001b[0m in \u001b[0;36m<cell line: 2>\u001b[0;34m()\u001b[0m\n\u001b[1;32m      1\u001b[0m \u001b[0;31m# sekarang kita ubah elemen tf.constant\u001b[0m\u001b[0;34m\u001b[0m\u001b[0;34m\u001b[0m\u001b[0m\n\u001b[0;32m----> 2\u001b[0;31m \u001b[0mtensor_tidak_bisa_diubah\u001b[0m\u001b[0;34m.\u001b[0m\u001b[0massign\u001b[0m\u001b[0;34m(\u001b[0m\u001b[0;34m[\u001b[0m\u001b[0;36m1\u001b[0m\u001b[0;34m,\u001b[0m\u001b[0;36m2\u001b[0m\u001b[0;34m,\u001b[0m\u001b[0;36m3\u001b[0m\u001b[0;34m,\u001b[0m\u001b[0;36m4\u001b[0m\u001b[0;34m,\u001b[0m\u001b[0;36m5\u001b[0m\u001b[0;34m]\u001b[0m\u001b[0;34m)\u001b[0m\u001b[0;34m\u001b[0m\u001b[0;34m\u001b[0m\u001b[0m\n\u001b[0m\u001b[1;32m      3\u001b[0m \u001b[0mtensor_tidak_bisa_diubah\u001b[0m\u001b[0;34m\u001b[0m\u001b[0;34m\u001b[0m\u001b[0m\n",
            "\u001b[0;32m/usr/local/lib/python3.10/dist-packages/tensorflow/python/framework/tensor.py\u001b[0m in \u001b[0;36m__getattr__\u001b[0;34m(self, name)\u001b[0m\n\u001b[1;32m    258\u001b[0m         \u001b[0mtf\u001b[0m\u001b[0;34m.\u001b[0m\u001b[0mexperimental\u001b[0m\u001b[0;34m.\u001b[0m\u001b[0mnumpy\u001b[0m\u001b[0;34m.\u001b[0m\u001b[0mexperimental_enable_numpy_behavior\u001b[0m\u001b[0;34m(\u001b[0m\u001b[0;34m)\u001b[0m\u001b[0;34m\u001b[0m\u001b[0;34m\u001b[0m\u001b[0m\n\u001b[1;32m    259\u001b[0m       \"\"\")\n\u001b[0;32m--> 260\u001b[0;31m     \u001b[0mself\u001b[0m\u001b[0;34m.\u001b[0m\u001b[0m__getattribute__\u001b[0m\u001b[0;34m(\u001b[0m\u001b[0mname\u001b[0m\u001b[0;34m)\u001b[0m\u001b[0;34m\u001b[0m\u001b[0;34m\u001b[0m\u001b[0m\n\u001b[0m\u001b[1;32m    261\u001b[0m \u001b[0;34m\u001b[0m\u001b[0m\n\u001b[1;32m    262\u001b[0m   \u001b[0;34m@\u001b[0m\u001b[0mproperty\u001b[0m\u001b[0;34m\u001b[0m\u001b[0;34m\u001b[0m\u001b[0m\n",
            "\u001b[0;31mAttributeError\u001b[0m: 'tensorflow.python.framework.ops.EagerTensor' object has no attribute 'assign'"
          ]
        }
      ]
    },
    {
      "cell_type": "markdown",
      "source": [
        "ini menjelaskan bahwa tf.constant elemennya tidak bisa diubah karena sudah bersifat mutlak"
      ],
      "metadata": {
        "id": "CTXZ4YIrb5Zg"
      }
    },
    {
      "cell_type": "markdown",
      "source": [
        "### MEMBUAT RANDOM TENSOR\n",
        "\n",
        "Jadi kali ini saya ingin membuat random tensor, ini sangat diperlukan dalam deep learning, cara membuat random tensor adalah dengan memberikan seed pada tensor tersebut agar memiliki elemen (itu sepengetahuan saya)\n",
        "\n"
      ],
      "metadata": {
        "id": "9K0zoZzIxW8L"
      }
    },
    {
      "cell_type": "code",
      "source": [
        "# saya akan membuat dua tensor random tapi kedua elemen tersebut sama dengan cara memberikan seed pada tensor tersebut\n",
        "random_1 = tf.random.Generator.from_seed(50) # angkanya bebas yang penting bilangan integer, saya pakai 50 karena itu angka favorit saya\n",
        "random_1 = random_1.normal(shape=(3,3))\n",
        "random_2 = tf.random.Generator.from_seed(50)\n",
        "random_2 = random_2.normal(shape=(3,3))\n",
        "\n",
        "random_1, random_2, random_1 == random_2"
      ],
      "metadata": {
        "id": "cGzt1sbScrhI",
        "colab": {
          "base_uri": "https://localhost:8080/"
        },
        "outputId": "613c2be9-9353-4a20-cbac-a4080179bf7f"
      },
      "execution_count": null,
      "outputs": [
        {
          "output_type": "execute_result",
          "data": {
            "text/plain": [
              "(<tf.Tensor: shape=(3, 3), dtype=float32, numpy=\n",
              " array([[ 0.45331386,  1.1487608 , -1.2659091 ],\n",
              "        [-0.47450137,  2.006022  ,  0.28288034],\n",
              "        [-0.30288252, -1.443651  ,  1.0034493 ]], dtype=float32)>,\n",
              " <tf.Tensor: shape=(3, 3), dtype=float32, numpy=\n",
              " array([[ 0.45331386,  1.1487608 , -1.2659091 ],\n",
              "        [-0.47450137,  2.006022  ,  0.28288034],\n",
              "        [-0.30288252, -1.443651  ,  1.0034493 ]], dtype=float32)>,\n",
              " <tf.Tensor: shape=(3, 3), dtype=bool, numpy=\n",
              " array([[ True,  True,  True],\n",
              "        [ True,  True,  True],\n",
              "        [ True,  True,  True]])>)"
            ]
          },
          "metadata": {},
          "execution_count": 14
        }
      ]
    },
    {
      "cell_type": "markdown",
      "source": [
        "Di sini membuktikan bahwa jika kita memberikan seed kepada tensor yang random maka tensor tersebut akan memiliki nilai namun saya memberikan seed yang sama kepada 2 tensor tersebut makanya random_1 dan random_2 memiliki nilai yang sama"
      ],
      "metadata": {
        "id": "4kjULa3WzBkr"
      }
    },
    {
      "cell_type": "code",
      "source": [
        "# kita coba membuat 2 random tensor lagi dengan kedua seed yang berbeda\n",
        "random_3 = tf.random.Generator.from_seed(49)\n",
        "random_3 = random_3.normal(shape=(3, 3))\n",
        "random_4 = tf.random.Generator.from_seed(50)\n",
        "random_4 = random_4.normal(shape=(3, 3))\n",
        "\n",
        "random_3, random_4, random_3 == random_4"
      ],
      "metadata": {
        "id": "Yz9WHA5kz-Lg",
        "colab": {
          "base_uri": "https://localhost:8080/"
        },
        "outputId": "64257412-a0e8-451c-96e5-39d56e326d35"
      },
      "execution_count": null,
      "outputs": [
        {
          "output_type": "execute_result",
          "data": {
            "text/plain": [
              "(<tf.Tensor: shape=(3, 3), dtype=float32, numpy=\n",
              " array([[-1.5184573 , -0.4585211 ,  0.5714663 ],\n",
              "        [-1.5331722 ,  0.45331386,  1.1487608 ],\n",
              "        [-1.2659091 , -0.47450137,  2.006022  ]], dtype=float32)>,\n",
              " <tf.Tensor: shape=(3, 3), dtype=float32, numpy=\n",
              " array([[ 0.45331386,  1.1487608 , -1.2659091 ],\n",
              "        [-0.47450137,  2.006022  ,  0.28288034],\n",
              "        [-0.30288252, -1.443651  ,  1.0034493 ]], dtype=float32)>,\n",
              " <tf.Tensor: shape=(3, 3), dtype=bool, numpy=\n",
              " array([[False, False, False],\n",
              "        [False, False, False],\n",
              "        [False, False, False]])>)"
            ]
          },
          "metadata": {},
          "execution_count": 15
        }
      ]
    },
    {
      "cell_type": "markdown",
      "source": [
        "random_3 dan random_4 memiliki nilai yang berbeda itu karena random_3 dan random_4 memiliki seed yang berbeda"
      ],
      "metadata": {
        "id": "qlaTwXbR00OL"
      }
    },
    {
      "cell_type": "markdown",
      "source": [
        "### MENGACAK URUTAN TENSOR\n",
        "\n",
        "kali ini saya akan membuat tensor tapi mengacak urutannya menggunakan tf.random.shuffle"
      ],
      "metadata": {
        "id": "Lxs2dx-E7MMn"
      }
    },
    {
      "cell_type": "code",
      "source": [
        "# kita buat tensor nya dahulu\n",
        "tensor_nonacak = tf.constant([[2, 3, 4],\n",
        "                              [5, 4, 3],\n",
        "                              [7, 8, 9]])\n",
        "\n",
        "tensor_nonacak"
      ],
      "metadata": {
        "id": "D0W6I2Bj7f-x",
        "colab": {
          "base_uri": "https://localhost:8080/"
        },
        "outputId": "a35df26b-daf4-46a5-ffa1-5d35e2ded368"
      },
      "execution_count": null,
      "outputs": [
        {
          "output_type": "execute_result",
          "data": {
            "text/plain": [
              "<tf.Tensor: shape=(3, 3), dtype=int32, numpy=\n",
              "array([[2, 3, 4],\n",
              "       [5, 4, 3],\n",
              "       [7, 8, 9]], dtype=int32)>"
            ]
          },
          "metadata": {},
          "execution_count": 16
        }
      ]
    },
    {
      "cell_type": "code",
      "source": [
        "# sekarang kita ubah urutannya menggunakan tf.random.shuffle\n",
        "tf.random.shuffle(tensor_nonacak)"
      ],
      "metadata": {
        "id": "AxLHJuzg8dZV",
        "colab": {
          "base_uri": "https://localhost:8080/"
        },
        "outputId": "422f713b-3866-42ec-ef4c-f0997d6877d2"
      },
      "execution_count": null,
      "outputs": [
        {
          "output_type": "execute_result",
          "data": {
            "text/plain": [
              "<tf.Tensor: shape=(3, 3), dtype=int32, numpy=\n",
              "array([[2, 3, 4],\n",
              "       [5, 4, 3],\n",
              "       [7, 8, 9]], dtype=int32)>"
            ]
          },
          "metadata": {},
          "execution_count": 17
        }
      ]
    },
    {
      "cell_type": "markdown",
      "source": [
        "sekarang kita sudah mengubah urutannya, urutannya akan terus berubah apabila kita klik run secara berkali kali, lalu bagaimana cara agar tensor tersebut tidak teracak? lihat tutor di bawah ini"
      ],
      "metadata": {
        "id": "EbLJh2Ml8_k6"
      }
    },
    {
      "cell_type": "code",
      "source": [
        "# kita pasang seed pada tensor tersebut\n",
        "tf.random.set_seed(50) # angkanya bebas asal bilangan integer\n",
        "\n",
        "tf.random.shuffle(tensor_nonacak)"
      ],
      "metadata": {
        "id": "xPSc6El59MKZ",
        "colab": {
          "base_uri": "https://localhost:8080/"
        },
        "outputId": "75d545a9-ceff-4c2c-f935-4dd3a4d19418"
      },
      "execution_count": null,
      "outputs": [
        {
          "output_type": "execute_result",
          "data": {
            "text/plain": [
              "<tf.Tensor: shape=(3, 3), dtype=int32, numpy=\n",
              "array([[7, 8, 9],\n",
              "       [5, 4, 3],\n",
              "       [2, 3, 4]], dtype=int32)>"
            ]
          },
          "metadata": {},
          "execution_count": 18
        }
      ]
    },
    {
      "cell_type": "markdown",
      "source": [
        "sekarang tensor tersebut tidak akan teracak apabila kita klik run berkali kali"
      ],
      "metadata": {
        "id": "Xq2dCaaj989y"
      }
    },
    {
      "cell_type": "markdown",
      "source": [
        "### MEMBUAT TENSOR MENGGUNAKAN NUMPY\n",
        "\n",
        "kali ini saya akan membuat tensor menggunakan tensor menggunakan numpy, apa bedanya tensor dengan numpy? sebanarnya tidak ada perbedaan yang mencolok tapi yang membedakan adalah tensor berjalan di gpu perangkat agar proses komputasi lebih cepat"
      ],
      "metadata": {
        "id": "vd4klbz8_Yu8"
      }
    },
    {
      "cell_type": "code",
      "source": [
        "# kita import dulu library numpy nya dahulu,lalu kita buat array dari numpy\n",
        "import numpy as np\n",
        "\n",
        "numpy1 = np.arange(1, 61, dtype=np.int32)\n",
        "numpy1, numpy1.shape"
      ],
      "metadata": {
        "id": "TSTtwt_1AWpH",
        "colab": {
          "base_uri": "https://localhost:8080/"
        },
        "outputId": "126aeac1-23ac-458b-fa60-ecf6df029771"
      },
      "execution_count": null,
      "outputs": [
        {
          "output_type": "execute_result",
          "data": {
            "text/plain": [
              "(array([ 1,  2,  3,  4,  5,  6,  7,  8,  9, 10, 11, 12, 13, 14, 15, 16, 17,\n",
              "        18, 19, 20, 21, 22, 23, 24, 25, 26, 27, 28, 29, 30, 31, 32, 33, 34,\n",
              "        35, 36, 37, 38, 39, 40, 41, 42, 43, 44, 45, 46, 47, 48, 49, 50, 51,\n",
              "        52, 53, 54, 55, 56, 57, 58, 59, 60], dtype=int32),\n",
              " (60,))"
            ]
          },
          "metadata": {},
          "execution_count": 19
        }
      ]
    },
    {
      "cell_type": "code",
      "source": [
        "# lalu kita buat tensor dari numpy array yang kita buat\n",
        "a = tf.constant(numpy1, shape=(3, 5, 4)) # di sini saya membuat tensor dalam bentuk matrix\n",
        "b = tf.constant(numpy1) # di sini saya membuat tensor dalam bentuk array biasa\n",
        "\n",
        "a, b"
      ],
      "metadata": {
        "id": "Sc4m0i6sBAyp",
        "colab": {
          "base_uri": "https://localhost:8080/"
        },
        "outputId": "ccc037ec-c18d-44d5-f198-3de7d745de59"
      },
      "execution_count": null,
      "outputs": [
        {
          "output_type": "execute_result",
          "data": {
            "text/plain": [
              "(<tf.Tensor: shape=(3, 5, 4), dtype=int32, numpy=\n",
              " array([[[ 1,  2,  3,  4],\n",
              "         [ 5,  6,  7,  8],\n",
              "         [ 9, 10, 11, 12],\n",
              "         [13, 14, 15, 16],\n",
              "         [17, 18, 19, 20]],\n",
              " \n",
              "        [[21, 22, 23, 24],\n",
              "         [25, 26, 27, 28],\n",
              "         [29, 30, 31, 32],\n",
              "         [33, 34, 35, 36],\n",
              "         [37, 38, 39, 40]],\n",
              " \n",
              "        [[41, 42, 43, 44],\n",
              "         [45, 46, 47, 48],\n",
              "         [49, 50, 51, 52],\n",
              "         [53, 54, 55, 56],\n",
              "         [57, 58, 59, 60]]], dtype=int32)>,\n",
              " <tf.Tensor: shape=(60,), dtype=int32, numpy=\n",
              " array([ 1,  2,  3,  4,  5,  6,  7,  8,  9, 10, 11, 12, 13, 14, 15, 16, 17,\n",
              "        18, 19, 20, 21, 22, 23, 24, 25, 26, 27, 28, 29, 30, 31, 32, 33, 34,\n",
              "        35, 36, 37, 38, 39, 40, 41, 42, 43, 44, 45, 46, 47, 48, 49, 50, 51,\n",
              "        52, 53, 54, 55, 56, 57, 58, 59, 60], dtype=int32)>)"
            ]
          },
          "metadata": {},
          "execution_count": 20
        }
      ]
    },
    {
      "cell_type": "markdown",
      "source": [
        "### MACAM MACAM TENSOR\n",
        "\n",
        "kali ini saya akan membuat tensor dalam berbagai macam bentuk yang pertama tensor yang berisi elemen angka 1 dan yang kedua tensor yang berisi elemen angka 0, mungkin masih ada jenis tensor yang lain yang belum saya ketahui tapi kali saya akan membuat 2 jenis tensor"
      ],
      "metadata": {
        "id": "lPcsva6aDrRy"
      }
    },
    {
      "cell_type": "code",
      "source": [
        "# membuat tensor berisi elemen angka 1\n",
        "tf.ones(shape=(2, 3, 4))"
      ],
      "metadata": {
        "id": "537Eou8QEPH3",
        "colab": {
          "base_uri": "https://localhost:8080/"
        },
        "outputId": "28385c3b-cdae-47d4-9341-3e0b9a6d0aeb"
      },
      "execution_count": null,
      "outputs": [
        {
          "output_type": "execute_result",
          "data": {
            "text/plain": [
              "<tf.Tensor: shape=(2, 3, 4), dtype=float32, numpy=\n",
              "array([[[1., 1., 1., 1.],\n",
              "        [1., 1., 1., 1.],\n",
              "        [1., 1., 1., 1.]],\n",
              "\n",
              "       [[1., 1., 1., 1.],\n",
              "        [1., 1., 1., 1.],\n",
              "        [1., 1., 1., 1.]]], dtype=float32)>"
            ]
          },
          "metadata": {},
          "execution_count": 21
        }
      ]
    },
    {
      "cell_type": "code",
      "source": [
        "# membuat tensor berisi elemen angka 0\n",
        "tf.zeros(shape=(3, 4, 5))"
      ],
      "metadata": {
        "id": "G2gZfpGKEnnR",
        "colab": {
          "base_uri": "https://localhost:8080/"
        },
        "outputId": "eaafdad6-f453-43ee-fb4c-6ff3bbbd9dec"
      },
      "execution_count": null,
      "outputs": [
        {
          "output_type": "execute_result",
          "data": {
            "text/plain": [
              "<tf.Tensor: shape=(3, 4, 5), dtype=float32, numpy=\n",
              "array([[[0., 0., 0., 0., 0.],\n",
              "        [0., 0., 0., 0., 0.],\n",
              "        [0., 0., 0., 0., 0.],\n",
              "        [0., 0., 0., 0., 0.]],\n",
              "\n",
              "       [[0., 0., 0., 0., 0.],\n",
              "        [0., 0., 0., 0., 0.],\n",
              "        [0., 0., 0., 0., 0.],\n",
              "        [0., 0., 0., 0., 0.]],\n",
              "\n",
              "       [[0., 0., 0., 0., 0.],\n",
              "        [0., 0., 0., 0., 0.],\n",
              "        [0., 0., 0., 0., 0.],\n",
              "        [0., 0., 0., 0., 0.]]], dtype=float32)>"
            ]
          },
          "metadata": {},
          "execution_count": 22
        }
      ]
    },
    {
      "cell_type": "markdown",
      "source": [
        "### MENGAMBIL INFORMASI DARI TENSOR\n",
        "\n",
        "Kali ini saya akan mengambil informasi dari tensor seperti mengambil shape,dimensi, ukuran atau total elemen dari tensor, dan tipe datanya"
      ],
      "metadata": {
        "id": "z4w6VsseUS1r"
      }
    },
    {
      "cell_type": "code",
      "source": [
        "# kita buat dulu arraynya\n",
        "\n",
        "tensor_1 = np.arange(1, 201, 2, dtype=np.int32)\n",
        "tensor_1, tensor_1.shape"
      ],
      "metadata": {
        "id": "0ATYjrtjVClk",
        "colab": {
          "base_uri": "https://localhost:8080/"
        },
        "outputId": "aaf9b8ca-8485-46b7-82f8-e4d2da0ceaec"
      },
      "execution_count": null,
      "outputs": [
        {
          "output_type": "execute_result",
          "data": {
            "text/plain": [
              "(array([  1,   3,   5,   7,   9,  11,  13,  15,  17,  19,  21,  23,  25,\n",
              "         27,  29,  31,  33,  35,  37,  39,  41,  43,  45,  47,  49,  51,\n",
              "         53,  55,  57,  59,  61,  63,  65,  67,  69,  71,  73,  75,  77,\n",
              "         79,  81,  83,  85,  87,  89,  91,  93,  95,  97,  99, 101, 103,\n",
              "        105, 107, 109, 111, 113, 115, 117, 119, 121, 123, 125, 127, 129,\n",
              "        131, 133, 135, 137, 139, 141, 143, 145, 147, 149, 151, 153, 155,\n",
              "        157, 159, 161, 163, 165, 167, 169, 171, 173, 175, 177, 179, 181,\n",
              "        183, 185, 187, 189, 191, 193, 195, 197, 199], dtype=int32),\n",
              " (100,))"
            ]
          },
          "metadata": {},
          "execution_count": 23
        }
      ]
    },
    {
      "cell_type": "code",
      "source": [
        "# lalu kita buat tensornya\n",
        "\n",
        "tensor_1 = tf.constant(tensor_1, shape=(4, 5, 5))\n",
        "tensor_1"
      ],
      "metadata": {
        "id": "Vd7i93FUVtX5",
        "colab": {
          "base_uri": "https://localhost:8080/"
        },
        "outputId": "e17eef03-7bdc-42bf-e0fd-6bbd92e7b727"
      },
      "execution_count": null,
      "outputs": [
        {
          "output_type": "execute_result",
          "data": {
            "text/plain": [
              "<tf.Tensor: shape=(4, 5, 5), dtype=int32, numpy=\n",
              "array([[[  1,   3,   5,   7,   9],\n",
              "        [ 11,  13,  15,  17,  19],\n",
              "        [ 21,  23,  25,  27,  29],\n",
              "        [ 31,  33,  35,  37,  39],\n",
              "        [ 41,  43,  45,  47,  49]],\n",
              "\n",
              "       [[ 51,  53,  55,  57,  59],\n",
              "        [ 61,  63,  65,  67,  69],\n",
              "        [ 71,  73,  75,  77,  79],\n",
              "        [ 81,  83,  85,  87,  89],\n",
              "        [ 91,  93,  95,  97,  99]],\n",
              "\n",
              "       [[101, 103, 105, 107, 109],\n",
              "        [111, 113, 115, 117, 119],\n",
              "        [121, 123, 125, 127, 129],\n",
              "        [131, 133, 135, 137, 139],\n",
              "        [141, 143, 145, 147, 149]],\n",
              "\n",
              "       [[151, 153, 155, 157, 159],\n",
              "        [161, 163, 165, 167, 169],\n",
              "        [171, 173, 175, 177, 179],\n",
              "        [181, 183, 185, 187, 189],\n",
              "        [191, 193, 195, 197, 199]]], dtype=int32)>"
            ]
          },
          "metadata": {},
          "execution_count": 24
        }
      ]
    },
    {
      "cell_type": "code",
      "source": [
        "# sekarang kita ambil informasi dari tensor dengan beberapa metode\n",
        "print(f\"tipe data dari tensor : {tensor_1.dtype}\")\n",
        "print(f\"dimensi dari tensor : {tensor_1.ndim}\")\n",
        "print(f\"shape dari tensor : {tensor_1.shape}\")\n",
        "# saya menambahkan [0][0][0] agar bisa mengakses satu elemen karena jika saya menggunakan [0] maka outputnya menghasilkan matrix yang panjang\n",
        "print(f\"elemen pertama dari tensor : {tensor_1[0][0][0]}\")\n",
        "# begitu juga yang ini saya menambahkan [-1][-1][-1] agar bisa mengakses satu elemen karena jika saya menggunakan [-1] maka outputnya menghasilkan matrix yang panjang\n",
        "print(f\"elemen pertama dari tensor : {tensor_1[-1][-1][-1]}\")\n",
        "print(f\"total dari seluruh elemen (4*5*5) : {tf.size(tensor_1).numpy()} elemen\") # disini saya menambahkan method numpy() supaya output lebih bersih"
      ],
      "metadata": {
        "id": "67o5HNA3WW_5",
        "colab": {
          "base_uri": "https://localhost:8080/"
        },
        "outputId": "29c95d23-5b89-4197-897f-ed2a43b4c04b"
      },
      "execution_count": null,
      "outputs": [
        {
          "output_type": "stream",
          "name": "stdout",
          "text": [
            "tipe data dari tensor : <dtype: 'int32'>\n",
            "dimensi dari tensor : 3\n",
            "shape dari tensor : (4, 5, 5)\n",
            "elemen pertama dari tensor : 1\n",
            "elemen pertama dari tensor : 199\n",
            "total dari seluruh elemen (4*5*5) : 100 elemen\n"
          ]
        }
      ]
    },
    {
      "cell_type": "markdown",
      "source": [
        "### INDEX TENSOR\n",
        "\n",
        "Kali ini saya akan mengakses indes dari tensor menggunakan beberapa cara\n"
      ],
      "metadata": {
        "id": "brho0AbE0tTD"
      }
    },
    {
      "cell_type": "code",
      "source": [
        "# kita ambil 3 elemen pertama dari masing masing shape, saya mengambilnya dari tensor yang sudah ada di atas\n",
        "tensor_1[:3, :3, :3]"
      ],
      "metadata": {
        "colab": {
          "base_uri": "https://localhost:8080/"
        },
        "id": "JjGJZHTR0-Pi",
        "outputId": "a9744f84-4c7e-4796-8d0a-4e1b52a937aa"
      },
      "execution_count": null,
      "outputs": [
        {
          "output_type": "execute_result",
          "data": {
            "text/plain": [
              "<tf.Tensor: shape=(3, 3, 3), dtype=int32, numpy=\n",
              "array([[[  1,   3,   5],\n",
              "        [ 11,  13,  15],\n",
              "        [ 21,  23,  25]],\n",
              "\n",
              "       [[ 51,  53,  55],\n",
              "        [ 61,  63,  65],\n",
              "        [ 71,  73,  75]],\n",
              "\n",
              "       [[101, 103, 105],\n",
              "        [111, 113, 115],\n",
              "        [121, 123, 125]]], dtype=int32)>"
            ]
          },
          "metadata": {},
          "execution_count": 26
        }
      ]
    },
    {
      "cell_type": "code",
      "source": [
        "tensor_1.shape"
      ],
      "metadata": {
        "colab": {
          "base_uri": "https://localhost:8080/"
        },
        "id": "scztUtvR2jIK",
        "outputId": "baea7a8e-9e96-4f90-fe86-39590b17fdff"
      },
      "execution_count": null,
      "outputs": [
        {
          "output_type": "execute_result",
          "data": {
            "text/plain": [
              "TensorShape([4, 5, 5])"
            ]
          },
          "metadata": {},
          "execution_count": 27
        }
      ]
    },
    {
      "cell_type": "code",
      "source": [
        "# kita ambil 2 elemen pertama di setiap shape kecuali shape terakhir\n",
        "tensor_1[:2, :2, :]"
      ],
      "metadata": {
        "colab": {
          "base_uri": "https://localhost:8080/"
        },
        "id": "l6F1XGok1sxY",
        "outputId": "0234da63-ab44-44b6-8775-6335a2bc21ab"
      },
      "execution_count": null,
      "outputs": [
        {
          "output_type": "execute_result",
          "data": {
            "text/plain": [
              "<tf.Tensor: shape=(2, 2, 5), dtype=int32, numpy=\n",
              "array([[[ 1,  3,  5,  7,  9],\n",
              "        [11, 13, 15, 17, 19]],\n",
              "\n",
              "       [[51, 53, 55, 57, 59],\n",
              "        [61, 63, 65, 67, 69]]], dtype=int32)>"
            ]
          },
          "metadata": {},
          "execution_count": 28
        }
      ]
    },
    {
      "cell_type": "markdown",
      "source": [
        "di sini output yang keluar hanyak 2 matrix atau 2 dimensi karena kita hanya mengakses 2 dimensi nya saja, pada dimensi terakhir bertuliskan 5 karena pada dimensi terakhir kita tidak mengambil indeksnya, makanya bertuliskan 5"
      ],
      "metadata": {
        "id": "ZFoHg3d22Gi8"
      }
    },
    {
      "cell_type": "code",
      "source": [
        "# kita juga bisa mengakses seluruh elemen pada kolom dan baris tertentu\n",
        "\n",
        "# mengakses setiap elemen pada baris tertentu\n",
        "last_element_1 = tensor_1[0][:, -2].numpy() # 0 pada kurung kotak pertama adalah matrix pertama\n",
        "last_element_2 = tensor_1[0][0, -1].numpy()\n",
        "\n",
        "# mengakses setiap elemen pada kolom tertentu\n",
        "last_element_3 = tensor_1[0][-1, :].numpy()\n",
        "last_element_4 = tensor_1[0][-2, 3].numpy()\n",
        "\n",
        "last_element_1, last_element_2, last_element_3, last_element_4"
      ],
      "metadata": {
        "colab": {
          "base_uri": "https://localhost:8080/"
        },
        "id": "a3upMs_34GcP",
        "outputId": "b9a9e75d-9f81-41c6-cae2-32409394a956"
      },
      "execution_count": null,
      "outputs": [
        {
          "output_type": "execute_result",
          "data": {
            "text/plain": [
              "(array([ 7, 17, 27, 37, 47], dtype=int32),\n",
              " 9,\n",
              " array([41, 43, 45, 47, 49], dtype=int32),\n",
              " 37)"
            ]
          },
          "metadata": {},
          "execution_count": 29
        }
      ]
    },
    {
      "cell_type": "code",
      "source": [
        "# kita bisa menambahkan dimensi tambahan pada tensor\n",
        "extra_dimensi = tensor_1[tf.newaxis, ...]\n",
        "extra_dimensi"
      ],
      "metadata": {
        "colab": {
          "base_uri": "https://localhost:8080/"
        },
        "id": "n8IGb8wi6o0y",
        "outputId": "e853ee7f-c5df-4eca-eb33-654a0528c9bc"
      },
      "execution_count": null,
      "outputs": [
        {
          "output_type": "execute_result",
          "data": {
            "text/plain": [
              "<tf.Tensor: shape=(1, 4, 5, 5), dtype=int32, numpy=\n",
              "array([[[[  1,   3,   5,   7,   9],\n",
              "         [ 11,  13,  15,  17,  19],\n",
              "         [ 21,  23,  25,  27,  29],\n",
              "         [ 31,  33,  35,  37,  39],\n",
              "         [ 41,  43,  45,  47,  49]],\n",
              "\n",
              "        [[ 51,  53,  55,  57,  59],\n",
              "         [ 61,  63,  65,  67,  69],\n",
              "         [ 71,  73,  75,  77,  79],\n",
              "         [ 81,  83,  85,  87,  89],\n",
              "         [ 91,  93,  95,  97,  99]],\n",
              "\n",
              "        [[101, 103, 105, 107, 109],\n",
              "         [111, 113, 115, 117, 119],\n",
              "         [121, 123, 125, 127, 129],\n",
              "         [131, 133, 135, 137, 139],\n",
              "         [141, 143, 145, 147, 149]],\n",
              "\n",
              "        [[151, 153, 155, 157, 159],\n",
              "         [161, 163, 165, 167, 169],\n",
              "         [171, 173, 175, 177, 179],\n",
              "         [181, 183, 185, 187, 189],\n",
              "         [191, 193, 195, 197, 199]]]], dtype=int32)>"
            ]
          },
          "metadata": {},
          "execution_count": 30
        }
      ]
    },
    {
      "cell_type": "markdown",
      "source": [
        "kini dimensi nya bertambah menjadi 4 dimensi"
      ],
      "metadata": {
        "id": "2wRWVMlh7Kdn"
      }
    },
    {
      "cell_type": "markdown",
      "source": [
        "# OPERASI TENSOR\n",
        "\n",
        "kita bisa mengalikan, membagi dan operasi matematika lainnya pada tensor\n"
      ],
      "metadata": {
        "id": "bd6lB99l4Aff"
      }
    },
    {
      "cell_type": "code",
      "source": [
        "# kita buat tensor nya dahulu\n",
        "tensor_ex = np.arange(1, 10, dtype=np.int32)\n",
        "tensor_ex = tf.constant(tensor_ex, shape=(3, 3))\n",
        "tensor_ex"
      ],
      "metadata": {
        "colab": {
          "base_uri": "https://localhost:8080/"
        },
        "id": "MVoriKZt4lCi",
        "outputId": "8922e380-9152-42b9-b40b-b6fe36cb1122"
      },
      "execution_count": null,
      "outputs": [
        {
          "output_type": "execute_result",
          "data": {
            "text/plain": [
              "<tf.Tensor: shape=(3, 3), dtype=int32, numpy=\n",
              "array([[1, 2, 3],\n",
              "       [4, 5, 6],\n",
              "       [7, 8, 9]], dtype=int32)>"
            ]
          },
          "metadata": {},
          "execution_count": 31
        }
      ]
    },
    {
      "cell_type": "code",
      "source": [
        "# kita gunakan operasi tambah\n",
        "x = tensor_ex + 10\n",
        "\n",
        "# kita gunakan operasi kurang\n",
        "y = tensor_ex - 1\n",
        "\n",
        "# kita gunakan operasi kali\n",
        "z = tensor_ex * 2\n",
        "\n",
        "# kita gunakan operasi bagi\n",
        "w = tensor_ex / 2\n",
        "\n",
        "print(f\"hasil tambah : \\n{x}\")\n",
        "print(f\"hasil kurang : \\n{y}\")\n",
        "print(f\"hasil kali : \\n{z}\")\n",
        "print(f\"hasil bagi : \\n{w}\")"
      ],
      "metadata": {
        "colab": {
          "base_uri": "https://localhost:8080/"
        },
        "id": "4IlThaB84eoV",
        "outputId": "7a0385b3-a201-45fd-e7de-b9638f07b4b3"
      },
      "execution_count": null,
      "outputs": [
        {
          "output_type": "stream",
          "name": "stdout",
          "text": [
            "hasil tambah : \n",
            "[[11 12 13]\n",
            " [14 15 16]\n",
            " [17 18 19]]\n",
            "hasil kurang : \n",
            "[[0 1 2]\n",
            " [3 4 5]\n",
            " [6 7 8]]\n",
            "hasil kali : \n",
            "[[ 2  4  6]\n",
            " [ 8 10 12]\n",
            " [14 16 18]]\n",
            "hasil bagi : \n",
            "[[0.5 1.  1.5]\n",
            " [2.  2.5 3. ]\n",
            " [3.5 4.  4.5]]\n"
          ]
        }
      ]
    },
    {
      "cell_type": "code",
      "source": [
        "# kita bisa gunakan function untuk mengoperasikan tensor\n",
        "a = tf.multiply(tensor_ex, 10) # perkalian\n",
        "b = tf.add(tensor_ex, 10) # penjumlahan\n",
        "c = tf.subtract(tensor_ex, 10) # pengurangan\n",
        "d = tf.divide(tensor_ex, 10) # pembagian\n",
        "e = tf.argmax(tensor_ex) # mencari indeks terbesar\n",
        "f = tf.argmin(tensor_ex) # mencari indeks terkecil\n",
        "\n",
        "print(f\"hasil kali : \\n{a}\")\n",
        "print(f\"hasil tambah : \\n{b}\")\n",
        "print(f\"hasil kurang : \\n{c}\")\n",
        "print(f\"hasil bagi : \\n{d}\")\n",
        "print(f\"indeks terbesar : {e}\")\n",
        "print(f\"indeks terkecil : {f}\")"
      ],
      "metadata": {
        "colab": {
          "base_uri": "https://localhost:8080/"
        },
        "id": "7011kvoq6vsa",
        "outputId": "cf14cc84-85d0-4f13-d458-fc3e3e7af785"
      },
      "execution_count": null,
      "outputs": [
        {
          "output_type": "stream",
          "name": "stdout",
          "text": [
            "hasil kali : \n",
            "[[10 20 30]\n",
            " [40 50 60]\n",
            " [70 80 90]]\n",
            "hasil tambah : \n",
            "[[11 12 13]\n",
            " [14 15 16]\n",
            " [17 18 19]]\n",
            "hasil kurang : \n",
            "[[-9 -8 -7]\n",
            " [-6 -5 -4]\n",
            " [-3 -2 -1]]\n",
            "hasil bagi : \n",
            "[[0.1 0.2 0.3]\n",
            " [0.4 0.5 0.6]\n",
            " [0.7 0.8 0.9]]\n",
            "indeks terbesar : [2 2 2]\n",
            "indeks terkecil : [0 0 0]\n"
          ]
        }
      ]
    },
    {
      "cell_type": "markdown",
      "source": [
        "dengan begini kita bisa mengoperasikan tensor, untuk selebihnya kita bisa melihat dokumentasi tensorflow dengan mengetik tf.math"
      ],
      "metadata": {
        "id": "P2zVL8xj8GGz"
      }
    },
    {
      "cell_type": "markdown",
      "source": [
        "## MATRIX MULTIPLICATION PART 1\n",
        "\n",
        "kali ini saya akan membuat matrix multiplication, yaitu pengoperasian antara dua matrix"
      ],
      "metadata": {
        "id": "68WKDwL5LH_5"
      }
    },
    {
      "cell_type": "code",
      "source": [
        "# kita buat contoh tensor nya (2 x 2)\n",
        "tensor_2 = np.arange(1, 5, dtype=np.int32)\n",
        "tensor_2 = tf.constant(tensor_2, shape=(2, 2))\n",
        "tensor_3 = np.arange(6, 10, dtype=np.int32)\n",
        "tensor_3 = tf.constant(tensor_3, shape=(2, 2))\n",
        "\n",
        "tensor_2, tensor_3"
      ],
      "metadata": {
        "colab": {
          "base_uri": "https://localhost:8080/"
        },
        "id": "0-XA5IvpZS57",
        "outputId": "17e11d0e-576d-4534-9244-24b04d0b7896"
      },
      "execution_count": null,
      "outputs": [
        {
          "output_type": "execute_result",
          "data": {
            "text/plain": [
              "(<tf.Tensor: shape=(2, 2), dtype=int32, numpy=\n",
              " array([[1, 2],\n",
              "        [3, 4]], dtype=int32)>,\n",
              " <tf.Tensor: shape=(2, 2), dtype=int32, numpy=\n",
              " array([[6, 7],\n",
              "        [8, 9]], dtype=int32)>)"
            ]
          },
          "metadata": {},
          "execution_count": 34
        }
      ]
    },
    {
      "cell_type": "code",
      "source": [
        "# kita gabungkan 2 tensor tersebut menggunakan function dari tensorflow\n",
        "tf.matmul(tensor_2, tensor_3)"
      ],
      "metadata": {
        "colab": {
          "base_uri": "https://localhost:8080/"
        },
        "id": "QHzXC490Z_2u",
        "outputId": "8caaad06-2cf6-4c4e-cb48-a37e7e66c61c"
      },
      "execution_count": null,
      "outputs": [
        {
          "output_type": "execute_result",
          "data": {
            "text/plain": [
              "<tf.Tensor: shape=(2, 2), dtype=int32, numpy=\n",
              "array([[22, 25],\n",
              "       [50, 57]], dtype=int32)>"
            ]
          },
          "metadata": {},
          "execution_count": 35
        }
      ]
    },
    {
      "cell_type": "markdown",
      "source": [
        "kita bisa melihat output tersebut, itu adalah hasil perkalian matrix 2 x 2\n",
        "untuk caranya bisa liat sendiri cara perkalian 2 matrix di google"
      ],
      "metadata": {
        "id": "zlzmBeHraO1U"
      }
    },
    {
      "cell_type": "code",
      "source": [
        "# sekarang kita buat 2 tensor dengan shape yang sama, tapi matrix nya berbeda (2 x 3)\n",
        "tensor_4 = np.arange(1, 7, dtype=np.int32)\n",
        "tensor_4 = tf.constant(tensor_4, shape=(2, 3))\n",
        "tensor_5 = np.arange(6, 12, dtype=np.int32)\n",
        "tensor_5 = tf.constant(tensor_5, shape=(2, 3))\n",
        "\n",
        "tensor_4, tensor_5"
      ],
      "metadata": {
        "colab": {
          "base_uri": "https://localhost:8080/"
        },
        "id": "KH8Em8jZaqcC",
        "outputId": "2692030f-db28-45eb-bb4f-1aeb3224f902"
      },
      "execution_count": null,
      "outputs": [
        {
          "output_type": "execute_result",
          "data": {
            "text/plain": [
              "(<tf.Tensor: shape=(2, 3), dtype=int32, numpy=\n",
              " array([[1, 2, 3],\n",
              "        [4, 5, 6]], dtype=int32)>,\n",
              " <tf.Tensor: shape=(2, 3), dtype=int32, numpy=\n",
              " array([[ 6,  7,  8],\n",
              "        [ 9, 10, 11]], dtype=int32)>)"
            ]
          },
          "metadata": {},
          "execution_count": 36
        }
      ]
    },
    {
      "cell_type": "code",
      "source": [
        "# sekarang kita gabungkan kedua tensor tersebut\n",
        "tf.matmul(tensor_4, tensor_5)"
      ],
      "metadata": {
        "colab": {
          "base_uri": "https://localhost:8080/",
          "height": 321
        },
        "id": "1IPnF0T2b2nS",
        "outputId": "1a3a6b3f-c0c7-49d2-eab1-2d9dd0a9747a"
      },
      "execution_count": null,
      "outputs": [
        {
          "output_type": "error",
          "ename": "InvalidArgumentError",
          "evalue": "{{function_node __wrapped__MatMul_device_/job:localhost/replica:0/task:0/device:CPU:0}} Matrix size-incompatible: In[0]: [2,3], In[1]: [2,3] [Op:MatMul] name: ",
          "traceback": [
            "\u001b[0;31m---------------------------------------------------------------------------\u001b[0m",
            "\u001b[0;31mInvalidArgumentError\u001b[0m                      Traceback (most recent call last)",
            "\u001b[0;32m<ipython-input-37-843b622acd85>\u001b[0m in \u001b[0;36m<cell line: 2>\u001b[0;34m()\u001b[0m\n\u001b[1;32m      1\u001b[0m \u001b[0;31m# sekarang kita gabungkan kedua tensor tersebut\u001b[0m\u001b[0;34m\u001b[0m\u001b[0;34m\u001b[0m\u001b[0m\n\u001b[0;32m----> 2\u001b[0;31m \u001b[0mtf\u001b[0m\u001b[0;34m.\u001b[0m\u001b[0mmatmul\u001b[0m\u001b[0;34m(\u001b[0m\u001b[0mtensor_4\u001b[0m\u001b[0;34m,\u001b[0m \u001b[0mtensor_5\u001b[0m\u001b[0;34m)\u001b[0m\u001b[0;34m\u001b[0m\u001b[0;34m\u001b[0m\u001b[0m\n\u001b[0m",
            "\u001b[0;32m/usr/local/lib/python3.10/dist-packages/tensorflow/python/ops/weak_tensor_ops.py\u001b[0m in \u001b[0;36mwrapper\u001b[0;34m(*args, **kwargs)\u001b[0m\n\u001b[1;32m    140\u001b[0m   \u001b[0;32mdef\u001b[0m \u001b[0mwrapper\u001b[0m\u001b[0;34m(\u001b[0m\u001b[0;34m*\u001b[0m\u001b[0margs\u001b[0m\u001b[0;34m,\u001b[0m \u001b[0;34m**\u001b[0m\u001b[0mkwargs\u001b[0m\u001b[0;34m)\u001b[0m\u001b[0;34m:\u001b[0m\u001b[0;34m\u001b[0m\u001b[0;34m\u001b[0m\u001b[0m\n\u001b[1;32m    141\u001b[0m     \u001b[0;32mif\u001b[0m \u001b[0;32mnot\u001b[0m \u001b[0mops\u001b[0m\u001b[0;34m.\u001b[0m\u001b[0mis_auto_dtype_conversion_enabled\u001b[0m\u001b[0;34m(\u001b[0m\u001b[0;34m)\u001b[0m\u001b[0;34m:\u001b[0m\u001b[0;34m\u001b[0m\u001b[0;34m\u001b[0m\u001b[0m\n\u001b[0;32m--> 142\u001b[0;31m       \u001b[0;32mreturn\u001b[0m \u001b[0mop\u001b[0m\u001b[0;34m(\u001b[0m\u001b[0;34m*\u001b[0m\u001b[0margs\u001b[0m\u001b[0;34m,\u001b[0m \u001b[0;34m**\u001b[0m\u001b[0mkwargs\u001b[0m\u001b[0;34m)\u001b[0m\u001b[0;34m\u001b[0m\u001b[0;34m\u001b[0m\u001b[0m\n\u001b[0m\u001b[1;32m    143\u001b[0m     \u001b[0mbound_arguments\u001b[0m \u001b[0;34m=\u001b[0m \u001b[0msignature\u001b[0m\u001b[0;34m.\u001b[0m\u001b[0mbind\u001b[0m\u001b[0;34m(\u001b[0m\u001b[0;34m*\u001b[0m\u001b[0margs\u001b[0m\u001b[0;34m,\u001b[0m \u001b[0;34m**\u001b[0m\u001b[0mkwargs\u001b[0m\u001b[0;34m)\u001b[0m\u001b[0;34m\u001b[0m\u001b[0;34m\u001b[0m\u001b[0m\n\u001b[1;32m    144\u001b[0m     \u001b[0mbound_arguments\u001b[0m\u001b[0;34m.\u001b[0m\u001b[0mapply_defaults\u001b[0m\u001b[0;34m(\u001b[0m\u001b[0;34m)\u001b[0m\u001b[0;34m\u001b[0m\u001b[0;34m\u001b[0m\u001b[0m\n",
            "\u001b[0;32m/usr/local/lib/python3.10/dist-packages/tensorflow/python/util/traceback_utils.py\u001b[0m in \u001b[0;36merror_handler\u001b[0;34m(*args, **kwargs)\u001b[0m\n\u001b[1;32m    151\u001b[0m     \u001b[0;32mexcept\u001b[0m \u001b[0mException\u001b[0m \u001b[0;32mas\u001b[0m \u001b[0me\u001b[0m\u001b[0;34m:\u001b[0m\u001b[0;34m\u001b[0m\u001b[0;34m\u001b[0m\u001b[0m\n\u001b[1;32m    152\u001b[0m       \u001b[0mfiltered_tb\u001b[0m \u001b[0;34m=\u001b[0m \u001b[0m_process_traceback_frames\u001b[0m\u001b[0;34m(\u001b[0m\u001b[0me\u001b[0m\u001b[0;34m.\u001b[0m\u001b[0m__traceback__\u001b[0m\u001b[0;34m)\u001b[0m\u001b[0;34m\u001b[0m\u001b[0;34m\u001b[0m\u001b[0m\n\u001b[0;32m--> 153\u001b[0;31m       \u001b[0;32mraise\u001b[0m \u001b[0me\u001b[0m\u001b[0;34m.\u001b[0m\u001b[0mwith_traceback\u001b[0m\u001b[0;34m(\u001b[0m\u001b[0mfiltered_tb\u001b[0m\u001b[0;34m)\u001b[0m \u001b[0;32mfrom\u001b[0m \u001b[0;32mNone\u001b[0m\u001b[0;34m\u001b[0m\u001b[0;34m\u001b[0m\u001b[0m\n\u001b[0m\u001b[1;32m    154\u001b[0m     \u001b[0;32mfinally\u001b[0m\u001b[0;34m:\u001b[0m\u001b[0;34m\u001b[0m\u001b[0;34m\u001b[0m\u001b[0m\n\u001b[1;32m    155\u001b[0m       \u001b[0;32mdel\u001b[0m \u001b[0mfiltered_tb\u001b[0m\u001b[0;34m\u001b[0m\u001b[0;34m\u001b[0m\u001b[0m\n",
            "\u001b[0;32m/usr/local/lib/python3.10/dist-packages/tensorflow/python/framework/ops.py\u001b[0m in \u001b[0;36mraise_from_not_ok_status\u001b[0;34m(e, name)\u001b[0m\n\u001b[1;32m   5981\u001b[0m \u001b[0;32mdef\u001b[0m \u001b[0mraise_from_not_ok_status\u001b[0m\u001b[0;34m(\u001b[0m\u001b[0me\u001b[0m\u001b[0;34m,\u001b[0m \u001b[0mname\u001b[0m\u001b[0;34m)\u001b[0m \u001b[0;34m->\u001b[0m \u001b[0mNoReturn\u001b[0m\u001b[0;34m:\u001b[0m\u001b[0;34m\u001b[0m\u001b[0;34m\u001b[0m\u001b[0m\n\u001b[1;32m   5982\u001b[0m   \u001b[0me\u001b[0m\u001b[0;34m.\u001b[0m\u001b[0mmessage\u001b[0m \u001b[0;34m+=\u001b[0m \u001b[0;34m(\u001b[0m\u001b[0;34m\" name: \"\u001b[0m \u001b[0;34m+\u001b[0m \u001b[0mstr\u001b[0m\u001b[0;34m(\u001b[0m\u001b[0mname\u001b[0m \u001b[0;32mif\u001b[0m \u001b[0mname\u001b[0m \u001b[0;32mis\u001b[0m \u001b[0;32mnot\u001b[0m \u001b[0;32mNone\u001b[0m \u001b[0;32melse\u001b[0m \u001b[0;34m\"\"\u001b[0m\u001b[0;34m)\u001b[0m\u001b[0;34m)\u001b[0m\u001b[0;34m\u001b[0m\u001b[0;34m\u001b[0m\u001b[0m\n\u001b[0;32m-> 5983\u001b[0;31m   \u001b[0;32mraise\u001b[0m \u001b[0mcore\u001b[0m\u001b[0;34m.\u001b[0m\u001b[0m_status_to_exception\u001b[0m\u001b[0;34m(\u001b[0m\u001b[0me\u001b[0m\u001b[0;34m)\u001b[0m \u001b[0;32mfrom\u001b[0m \u001b[0;32mNone\u001b[0m  \u001b[0;31m# pylint: disable=protected-access\u001b[0m\u001b[0;34m\u001b[0m\u001b[0;34m\u001b[0m\u001b[0m\n\u001b[0m\u001b[1;32m   5984\u001b[0m \u001b[0;34m\u001b[0m\u001b[0m\n\u001b[1;32m   5985\u001b[0m \u001b[0;34m\u001b[0m\u001b[0m\n",
            "\u001b[0;31mInvalidArgumentError\u001b[0m: {{function_node __wrapped__MatMul_device_/job:localhost/replica:0/task:0/device:CPU:0}} Matrix size-incompatible: In[0]: [2,3], In[1]: [2,3] [Op:MatMul] name: "
          ]
        }
      ]
    },
    {
      "cell_type": "markdown",
      "source": [
        "di sini eror karena tidak memenuhi syarat perkalian matrix, walaupun shape nya sama tapi dalam perkaliannya berbeda, seharusnya perkaliannya 2x3 dikali 3x2, jika matrix 2x3 dikali 2x3 maka itu tidak memenuhi persyaratan perkalian matrix makanya eror, pada part 2 akan dijelaskan cara mengatasinya"
      ],
      "metadata": {
        "id": "nt-DqyJyb-NU"
      }
    },
    {
      "cell_type": "markdown",
      "source": [
        "## MATRIX MULTIPLICATION PART 2\n",
        "\n",
        "kali ini saya akan melanjutkan matrix yang kemarin, saya akan membahas solusi agar kedua matrix yang eror tersebut bisa dikalikan\n",
        "\n",
        "\n",
        "\n"
      ],
      "metadata": {
        "id": "vuXLYxCsqjVb"
      }
    },
    {
      "cell_type": "code",
      "source": [
        "# kita ubah shape nya dari 2x3 menjadi 3x2\n",
        "tf.reshape(tensor_5, shape=(3, 2))"
      ],
      "metadata": {
        "colab": {
          "base_uri": "https://localhost:8080/"
        },
        "id": "Agf_DKVeq9Qm",
        "outputId": "fc699ca0-3117-4ed6-a2e0-580157ed03ea"
      },
      "execution_count": null,
      "outputs": [
        {
          "output_type": "execute_result",
          "data": {
            "text/plain": [
              "<tf.Tensor: shape=(3, 2), dtype=int32, numpy=\n",
              "array([[ 6,  7],\n",
              "       [ 8,  9],\n",
              "       [10, 11]], dtype=int32)>"
            ]
          },
          "metadata": {},
          "execution_count": 38
        }
      ]
    },
    {
      "cell_type": "code",
      "source": [
        "# kita kalikan dengan matrix 3x2\n",
        "tf.matmul(tensor_4, tf.reshape(tensor_5, shape=(3, 2)))"
      ],
      "metadata": {
        "colab": {
          "base_uri": "https://localhost:8080/"
        },
        "id": "-mVcIuPKr5xx",
        "outputId": "8869765b-3eda-4685-c880-95f7a2b0e25a"
      },
      "execution_count": null,
      "outputs": [
        {
          "output_type": "execute_result",
          "data": {
            "text/plain": [
              "<tf.Tensor: shape=(2, 2), dtype=int32, numpy=\n",
              "array([[ 52,  58],\n",
              "       [124, 139]], dtype=int32)>"
            ]
          },
          "metadata": {},
          "execution_count": 39
        }
      ]
    },
    {
      "cell_type": "code",
      "source": [
        "# apa yang terjadi jika x yaitu tensor 4 yang kita ubah shapenya\n",
        "tf.matmul(tf.reshape(tensor_4, shape=(3, 2)), tensor_5)"
      ],
      "metadata": {
        "colab": {
          "base_uri": "https://localhost:8080/"
        },
        "id": "_rl5F3_8sSOz",
        "outputId": "8f28b23a-babf-4ad6-ca48-3fa64ffab888"
      },
      "execution_count": null,
      "outputs": [
        {
          "output_type": "execute_result",
          "data": {
            "text/plain": [
              "<tf.Tensor: shape=(3, 3), dtype=int32, numpy=\n",
              "array([[ 24,  27,  30],\n",
              "       [ 54,  61,  68],\n",
              "       [ 84,  95, 106]], dtype=int32)>"
            ]
          },
          "metadata": {},
          "execution_count": 40
        }
      ]
    },
    {
      "cell_type": "markdown",
      "source": [
        "terdapat 2 hasil yang kedua hasil tersebut memiliki perbedaan yang sangat signifikan ini dikarenakan perkalian matrix yang berbeda shape"
      ],
      "metadata": {
        "id": "iLQBF1OVsfqN"
      }
    },
    {
      "cell_type": "code",
      "source": [
        "# kita bisa juga ubah shape menggubakan transpose\n",
        "tf.transpose(tensor_5)"
      ],
      "metadata": {
        "colab": {
          "base_uri": "https://localhost:8080/"
        },
        "id": "xgzRZlUDswj_",
        "outputId": "541eadaa-207e-40a0-f3e3-c64ce19f3763"
      },
      "execution_count": null,
      "outputs": [
        {
          "output_type": "execute_result",
          "data": {
            "text/plain": [
              "<tf.Tensor: shape=(3, 2), dtype=int32, numpy=\n",
              "array([[ 6,  9],\n",
              "       [ 7, 10],\n",
              "       [ 8, 11]], dtype=int32)>"
            ]
          },
          "metadata": {},
          "execution_count": 41
        }
      ]
    },
    {
      "cell_type": "code",
      "source": [
        "# lalu kita kalikan\n",
        "tf.matmul(tensor_4, tf.transpose(tensor_5))"
      ],
      "metadata": {
        "colab": {
          "base_uri": "https://localhost:8080/"
        },
        "id": "DX9jXacks-gd",
        "outputId": "96467f65-3f90-44aa-ed7d-e08c705e9dad"
      },
      "execution_count": null,
      "outputs": [
        {
          "output_type": "execute_result",
          "data": {
            "text/plain": [
              "<tf.Tensor: shape=(2, 2), dtype=int32, numpy=\n",
              "array([[ 44,  62],\n",
              "       [107, 152]], dtype=int32)>"
            ]
          },
          "metadata": {},
          "execution_count": 42
        }
      ]
    },
    {
      "cell_type": "markdown",
      "source": [
        "mengapa hasil nya berbeda dengan perkalian sebelumnya?,itu dikarenakan posisi atau urutan elemen matrix yang berbeda, tf.reshape dan tf.transpose sama mengubah bentuk atau shape dari matrix,tapi tf.reshape mengubah shape tanpa memerhatikan urutan elemen yang signifikan, sedangkan tf.transpose mengubah shape sesuai dengan urutan elemen"
      ],
      "metadata": {
        "id": "vlEkk3hBtFDA"
      }
    },
    {
      "cell_type": "markdown",
      "source": [
        "## MENGGANTI DATATYPE TENSOR\n",
        "\n",
        "kali ini saya akan mengganti tipe data atau datatype dari tensor menggunakan tf.cast"
      ],
      "metadata": {
        "id": "REsxfWMG7kLA"
      }
    },
    {
      "cell_type": "code",
      "source": [
        "# kita buat dulu tensor dengan tipe data float32 dan int32\n",
        "A = tf.constant([1.2, 3.2,])\n",
        "\n",
        "B = tf.constant([1, 2, 3])\n",
        "\n",
        "print(f\"tensor A : {A.numpy()}\")\n",
        "print(f\"tipe data tensor A : {A.dtype}\")\n",
        "print(f\"tensor B : {B.numpy()}\")\n",
        "print(f\"tipe data tensor B : {B.dtype}\")"
      ],
      "metadata": {
        "colab": {
          "base_uri": "https://localhost:8080/"
        },
        "id": "fsYMU51H73EI",
        "outputId": "8e94b821-4440-47ec-e4bf-3733bc004b06"
      },
      "execution_count": null,
      "outputs": [
        {
          "output_type": "stream",
          "name": "stdout",
          "text": [
            "tensor A : [1.2 3.2]\n",
            "tipe data tensor A : <dtype: 'float32'>\n",
            "tensor B : [1 2 3]\n",
            "tipe data tensor B : <dtype: 'int32'>\n"
          ]
        }
      ]
    },
    {
      "cell_type": "code",
      "source": [
        "# kita ubah tipe data nya menggunakan tf.cast\n",
        "C = tf.cast(A, dtype=tf.float16) # float32 menjadi float16\n",
        "\n",
        "D = tf.cast(B, dtype=tf.int16) # int32 menjadi int16\n",
        "\n",
        "E = tf.cast(B, dtype=tf.float32) # int32 menjadi float32\n",
        "\n",
        "print(f\"tensor C : {C.numpy()}\")\n",
        "print(f\"tipe data tensor C : {C.dtype}\")\n",
        "print(f\"tensor D : {D.numpy()}\")\n",
        "print(f\"tipe data tensor D : {D.dtype}\")\n",
        "print(f\"tensor E : {E.numpy()}\")\n",
        "print(f\"tipe data tensor E : {E.dtype}\")"
      ],
      "metadata": {
        "colab": {
          "base_uri": "https://localhost:8080/"
        },
        "id": "NXHvamo78aH-",
        "outputId": "8b791e6c-357c-4802-e6e6-7a46a97c84ba"
      },
      "execution_count": null,
      "outputs": [
        {
          "output_type": "stream",
          "name": "stdout",
          "text": [
            "tensor C : [1.2 3.2]\n",
            "tipe data tensor C : <dtype: 'float16'>\n",
            "tensor D : [1 2 3]\n",
            "tipe data tensor D : <dtype: 'int16'>\n",
            "tensor E : [1. 2. 3.]\n",
            "tipe data tensor E : <dtype: 'float32'>\n"
          ]
        }
      ]
    },
    {
      "cell_type": "markdown",
      "source": [
        "## MENCARI NILAI NILAI ABSOLUTE DARI TENSOR\n",
        "kali ini saya akan mencari nilai absolute seperti mencari nilai minimum, maximum, rata rata, jumlah dan lain lain"
      ],
      "metadata": {
        "id": "c2FO6axzJRRp"
      }
    },
    {
      "cell_type": "code",
      "source": [
        "# kita buat tensor dahulu, kali ini saya menggunakan tensor yang isinya nilai acak dengan shape 80\n",
        "tensor_ex2 = tf.constant(np.random.randint(0, 300, size=80)) # np.random.randint berfungsi membuat array acak\n",
        "tensor_ex2, tensor_ex2.shape"
      ],
      "metadata": {
        "colab": {
          "base_uri": "https://localhost:8080/"
        },
        "id": "t0Bw5JzuJgyP",
        "outputId": "b1d13a62-5346-4f52-9721-0db2d931b18b"
      },
      "execution_count": null,
      "outputs": [
        {
          "output_type": "execute_result",
          "data": {
            "text/plain": [
              "(<tf.Tensor: shape=(80,), dtype=int64, numpy=\n",
              " array([234, 111, 108,  48, 268, 135, 251,  63,  93,  23,  12,  17, 234,\n",
              "         27, 169,  45,  81, 222, 140,  24, 219, 244, 133, 150,  73, 264,\n",
              "        126,  46, 116, 272, 224,  44, 241,  63,  23, 211, 257, 283, 101,\n",
              "        203,  73, 214,  41, 168,   7,  65, 186, 209, 141, 233, 280, 239,\n",
              "         22, 188, 152, 243, 202, 159, 172, 154,  18,  17, 143,  70,  43,\n",
              "         40, 168,  20,  84, 274, 253, 161, 251,   4,  28, 256, 234, 258,\n",
              "        179, 239])>,\n",
              " TensorShape([80]))"
            ]
          },
          "metadata": {},
          "execution_count": 45
        }
      ]
    },
    {
      "cell_type": "code",
      "source": [
        "# kita cari nilai nilai nya\n",
        "print(f\"nilai minimum : {tf.reduce_min(tensor_ex2)}\") # kita cari nilai min\n",
        "print(f\"nilai maximum : {tf.reduce_max(tensor_ex2)}\") # kita cari nilai maximum\n",
        "print(f\"nilai rata rata : {tf.reduce_mean(tensor_ex2)}\") # kita cari rata rata\n",
        "print(f\"nilai jumlah : {tf.reduce_sum(tensor_ex2)}\") # kita cari jumlah\n",
        "print(f\"nilai variansi : {tf.math.reduce_variance(tf.cast(tensor_ex2, dtype=tf.float32))}\") # kita cari variansi\n",
        "print(f\"nilai maximum berdasarkan posisi : {tf.argmax(tensor_ex2)}\") # kita cari nilai maximum berdasarkan posisi\n",
        "print(f\"nilai minimum berdasarkan posisi : {tf.argmin(tensor_ex2)}\") # kita cari nilai minimum berdasarkan posisi"
      ],
      "metadata": {
        "colab": {
          "base_uri": "https://localhost:8080/"
        },
        "id": "uvjo5grkPGSP",
        "outputId": "f57cb9ff-60db-4ddf-c37b-ab7802d13b3e"
      },
      "execution_count": null,
      "outputs": [
        {
          "output_type": "stream",
          "name": "stdout",
          "text": [
            "nilai minimum : 4\n",
            "nilai maximum : 283\n",
            "nilai rata rata : 143\n",
            "nilai jumlah : 11486\n",
            "nilai variansi : 7826.5205078125\n",
            "nilai maximum berdasarkan posisi : 37\n",
            "nilai minimum berdasarkan posisi : 73\n"
          ]
        }
      ]
    },
    {
      "cell_type": "markdown",
      "source": [
        "## BONUS\n",
        "\n",
        "kali ini saya akan mempelajari tentang segmen tensor, Fungsi ini digunakan dalam TensorFlow untuk menghitung nilai dari setiap segmen dalam sebuah tensor. Segmen-segmen ini didefinisikan oleh sebuah tensor segment_ids yang menunjukkan keanggotaan setiap elemen dalam tensor data ke dalam segmen tertentu."
      ],
      "metadata": {
        "id": "WITAgGTzYU9T"
      }
    },
    {
      "cell_type": "code",
      "source": [
        "# kita buat segmen tensor nya\n",
        "segmen_tensor = tf.reshape(tensor_ex2, shape=(4, 5, 4)) # kita buat segmen dari tensor yang kita buat sebelumnya\n",
        "print(f\"segmen tensor : \\n{segmen_tensor}\")\n",
        "segment_ids1 = tf.constant([0, 0, 1, 1, 2])"
      ],
      "metadata": {
        "colab": {
          "base_uri": "https://localhost:8080/"
        },
        "id": "KsXju1I1SGS-",
        "outputId": "1e0cf326-9a39-4cb8-ab43-2c0a3e3eba55"
      },
      "execution_count": null,
      "outputs": [
        {
          "output_type": "stream",
          "name": "stdout",
          "text": [
            "segmen tensor : \n",
            "[[[234 111 108  48]\n",
            "  [268 135 251  63]\n",
            "  [ 93  23  12  17]\n",
            "  [234  27 169  45]\n",
            "  [ 81 222 140  24]]\n",
            "\n",
            " [[219 244 133 150]\n",
            "  [ 73 264 126  46]\n",
            "  [116 272 224  44]\n",
            "  [241  63  23 211]\n",
            "  [257 283 101 203]]\n",
            "\n",
            " [[ 73 214  41 168]\n",
            "  [  7  65 186 209]\n",
            "  [141 233 280 239]\n",
            "  [ 22 188 152 243]\n",
            "  [202 159 172 154]]\n",
            "\n",
            " [[ 18  17 143  70]\n",
            "  [ 43  40 168  20]\n",
            "  [ 84 274 253 161]\n",
            "  [251   4  28 256]\n",
            "  [234 258 179 239]]]\n"
          ]
        }
      ]
    },
    {
      "cell_type": "markdown",
      "source": [
        "segment_ids menunjukkan keanggotaan setiap baris dalam data ke dalam segmen. Dalam contoh ini, baris pertama dan kedua termasuk dalam segmen 0, sedangkan baris ketiga dan keempat termasuk dalam segmen 1, dan baris kelima termasuk segmen 2."
      ],
      "metadata": {
        "id": "fDjmHOl6ZD-E"
      }
    },
    {
      "cell_type": "code",
      "source": [
        "# kita cari nilai max, min dan lain lain dari segmen\n",
        "tf.math.segment_max(segmen_tensor[0],segment_ids = segment_ids1) # contoh\n",
        "\n",
        "print(f\"nilai minimum dari segmen : \\n {tf.math.segment_min(segmen_tensor[0],segment_ids = segment_ids1)}\") # kita cari nilai minimum\n",
        "print(f\"nilai maximum dari segmen : \\n {tf.math.segment_max(segmen_tensor[0],segment_ids = segment_ids1)}\") # kita cari nilai maximum\n",
        "print(f\"nilai rata rata dari segmen : \\n {tf.math.segment_mean(segmen_tensor[0],segment_ids = segment_ids1)}\") # kita cari rata rata\n",
        "print(f\"nilai jumlah dari segmen : \\n {tf.math.segment_sum(segmen_tensor[0],segment_ids = segment_ids1)}\") # kita cari jumlah\n",
        "print(f\"nilai prod dari segmen : \\n {tf.math.segment_prod(segmen_tensor[0],segment_ids = segment_ids1)}\") # kita cari prod"
      ],
      "metadata": {
        "colab": {
          "base_uri": "https://localhost:8080/"
        },
        "id": "2ZC9jrq2TrR_",
        "outputId": "60d29a3b-c753-4320-b8f3-cc6ec3de1a16"
      },
      "execution_count": null,
      "outputs": [
        {
          "output_type": "stream",
          "name": "stdout",
          "text": [
            "nilai minimum dari segmen : \n",
            " [[234 111 108  48]\n",
            " [ 93  23  12  17]\n",
            " [ 81 222 140  24]]\n",
            "nilai maximum dari segmen : \n",
            " [[268 135 251  63]\n",
            " [234  27 169  45]\n",
            " [ 81 222 140  24]]\n",
            "nilai rata rata dari segmen : \n",
            " [[251 123 179  55]\n",
            " [163  25  90  31]\n",
            " [ 81 222 140  24]]\n",
            "nilai jumlah dari segmen : \n",
            " [[502 246 359 111]\n",
            " [327  50 181  62]\n",
            " [ 81 222 140  24]]\n",
            "nilai prod dari segmen : \n",
            " [[62712 14985 27108  3024]\n",
            " [21762   621  2028   765]\n",
            " [   81   222   140    24]]\n"
          ]
        }
      ]
    },
    {
      "cell_type": "markdown",
      "source": [
        "## MENGHAPUS SELURUH DIMENSI YANG BERJUMLAH 1\n",
        "\n",
        "kali ini saya akan mempelajari cara menghapus 1 dimensi pada tensor"
      ],
      "metadata": {
        "id": "f2GC2UBKkwg4"
      }
    },
    {
      "cell_type": "code",
      "source": [
        "# kita buat tensor dengan 6 dimensi tensor yang terdiri dari angka 1 sampai 200\n",
        "tensor_ex3 = tf.constant(np.arange(1, 201, dtype=np.int32), shape=(1, 1, 1, 1, 200))\n",
        "tensor_ex3, tensor_ex3.shape"
      ],
      "metadata": {
        "colab": {
          "base_uri": "https://localhost:8080/"
        },
        "id": "_50Za3TnlBpe",
        "outputId": "f3fd5873-2cd1-405b-9f72-75e582821749"
      },
      "execution_count": null,
      "outputs": [
        {
          "output_type": "execute_result",
          "data": {
            "text/plain": [
              "(<tf.Tensor: shape=(1, 1, 1, 1, 200), dtype=int32, numpy=\n",
              " array([[[[[  1,   2,   3,   4,   5,   6,   7,   8,   9,  10,  11,  12,\n",
              "             13,  14,  15,  16,  17,  18,  19,  20,  21,  22,  23,  24,\n",
              "             25,  26,  27,  28,  29,  30,  31,  32,  33,  34,  35,  36,\n",
              "             37,  38,  39,  40,  41,  42,  43,  44,  45,  46,  47,  48,\n",
              "             49,  50,  51,  52,  53,  54,  55,  56,  57,  58,  59,  60,\n",
              "             61,  62,  63,  64,  65,  66,  67,  68,  69,  70,  71,  72,\n",
              "             73,  74,  75,  76,  77,  78,  79,  80,  81,  82,  83,  84,\n",
              "             85,  86,  87,  88,  89,  90,  91,  92,  93,  94,  95,  96,\n",
              "             97,  98,  99, 100, 101, 102, 103, 104, 105, 106, 107, 108,\n",
              "            109, 110, 111, 112, 113, 114, 115, 116, 117, 118, 119, 120,\n",
              "            121, 122, 123, 124, 125, 126, 127, 128, 129, 130, 131, 132,\n",
              "            133, 134, 135, 136, 137, 138, 139, 140, 141, 142, 143, 144,\n",
              "            145, 146, 147, 148, 149, 150, 151, 152, 153, 154, 155, 156,\n",
              "            157, 158, 159, 160, 161, 162, 163, 164, 165, 166, 167, 168,\n",
              "            169, 170, 171, 172, 173, 174, 175, 176, 177, 178, 179, 180,\n",
              "            181, 182, 183, 184, 185, 186, 187, 188, 189, 190, 191, 192,\n",
              "            193, 194, 195, 196, 197, 198, 199, 200]]]]], dtype=int32)>,\n",
              " TensorShape([1, 1, 1, 1, 200]))"
            ]
          },
          "metadata": {},
          "execution_count": 49
        }
      ]
    },
    {
      "cell_type": "code",
      "source": [
        "# sekarang kita hapus dimensi 1 nya dengan tf.squeeze\n",
        "tf.squeeze(tensor_ex3)"
      ],
      "metadata": {
        "colab": {
          "base_uri": "https://localhost:8080/"
        },
        "id": "uQcoe4Gilnw9",
        "outputId": "e76e1311-072f-4286-fffa-093c6dd1627e"
      },
      "execution_count": null,
      "outputs": [
        {
          "output_type": "execute_result",
          "data": {
            "text/plain": [
              "<tf.Tensor: shape=(200,), dtype=int32, numpy=\n",
              "array([  1,   2,   3,   4,   5,   6,   7,   8,   9,  10,  11,  12,  13,\n",
              "        14,  15,  16,  17,  18,  19,  20,  21,  22,  23,  24,  25,  26,\n",
              "        27,  28,  29,  30,  31,  32,  33,  34,  35,  36,  37,  38,  39,\n",
              "        40,  41,  42,  43,  44,  45,  46,  47,  48,  49,  50,  51,  52,\n",
              "        53,  54,  55,  56,  57,  58,  59,  60,  61,  62,  63,  64,  65,\n",
              "        66,  67,  68,  69,  70,  71,  72,  73,  74,  75,  76,  77,  78,\n",
              "        79,  80,  81,  82,  83,  84,  85,  86,  87,  88,  89,  90,  91,\n",
              "        92,  93,  94,  95,  96,  97,  98,  99, 100, 101, 102, 103, 104,\n",
              "       105, 106, 107, 108, 109, 110, 111, 112, 113, 114, 115, 116, 117,\n",
              "       118, 119, 120, 121, 122, 123, 124, 125, 126, 127, 128, 129, 130,\n",
              "       131, 132, 133, 134, 135, 136, 137, 138, 139, 140, 141, 142, 143,\n",
              "       144, 145, 146, 147, 148, 149, 150, 151, 152, 153, 154, 155, 156,\n",
              "       157, 158, 159, 160, 161, 162, 163, 164, 165, 166, 167, 168, 169,\n",
              "       170, 171, 172, 173, 174, 175, 176, 177, 178, 179, 180, 181, 182,\n",
              "       183, 184, 185, 186, 187, 188, 189, 190, 191, 192, 193, 194, 195,\n",
              "       196, 197, 198, 199, 200], dtype=int32)>"
            ]
          },
          "metadata": {},
          "execution_count": 50
        }
      ]
    },
    {
      "cell_type": "markdown",
      "source": [
        "Dengan ini kita dapat menghapus dimensi yang berjumlah 1 pada tensor"
      ],
      "metadata": {
        "id": "_k3066F8lxfV"
      }
    },
    {
      "cell_type": "markdown",
      "source": [
        "## ONE HOT ENCODING\n",
        "\n",
        "sebelumnya kita pernah mempelajari one hot encoding pada materi machine learning, namun kali ini saya hanya akan mengulangnya sedikit. One-hot encoding adalah teknik mengubah data kategorikal menjadi representasi numerik yang dapat dipahami oleh model machine learning. Dalam representasi ini, setiap kategori unik akan diubah menjadi sebuah vektor biner (vektor yang hanya berisi nilai 0 atau 1)."
      ],
      "metadata": {
        "id": "RSVu8wcsnrhf"
      }
    },
    {
      "cell_type": "code",
      "source": [
        "# kita buat list nya dahulu\n",
        "list_1 = [\"merah\", \"hijau\", \"biru\", \"kuning\", \"ungu\",]\n",
        "list_1"
      ],
      "metadata": {
        "colab": {
          "base_uri": "https://localhost:8080/"
        },
        "id": "kuG9P4WeoAbL",
        "outputId": "49f054ac-7e19-4390-dce1-5afd923d8e1c"
      },
      "execution_count": null,
      "outputs": [
        {
          "output_type": "execute_result",
          "data": {
            "text/plain": [
              "['merah', 'hijau', 'biru', 'kuning', 'ungu']"
            ]
          },
          "metadata": {},
          "execution_count": 51
        }
      ]
    },
    {
      "cell_type": "code",
      "source": [
        "# kita ubah jadi angka 1 atau 0 menggunakan metode one hot\n",
        "color_mapping = {\n",
        "    \"merah\": 0,\n",
        "    \"hijau\": 1,\n",
        "    \"biru\": 2,\n",
        "    \"kuning\": 3,\n",
        "    \"ungu\": 4\n",
        "}\n",
        "\n",
        "numerical_indices = [color_mapping[color] for color in list_1]\n",
        "tf.one_hot(numerical_indices, depth=5)"
      ],
      "metadata": {
        "colab": {
          "base_uri": "https://localhost:8080/"
        },
        "id": "_f7JLMPEoeug",
        "outputId": "042dea7a-9f7e-4ed3-cb6b-b6ae46244fec"
      },
      "execution_count": null,
      "outputs": [
        {
          "output_type": "execute_result",
          "data": {
            "text/plain": [
              "<tf.Tensor: shape=(5, 5), dtype=float32, numpy=\n",
              "array([[1., 0., 0., 0., 0.],\n",
              "       [0., 1., 0., 0., 0.],\n",
              "       [0., 0., 1., 0., 0.],\n",
              "       [0., 0., 0., 1., 0.],\n",
              "       [0., 0., 0., 0., 1.]], dtype=float32)>"
            ]
          },
          "metadata": {},
          "execution_count": 52
        }
      ]
    },
    {
      "cell_type": "markdown",
      "source": [
        "* color_mapping: Kamus (dictionary) ini digunakan untuk memetakan setiap nama warna ke sebuah angka unik. Ini adalah langkah awal untuk mengubah data kategorikal menjadi numerik.\n",
        "\n",
        "* numerical_indices = [color_mapping[color] for color in list_1]: List comprehension ini digunakan untuk mengiterasi setiap warna dalam list_1 dan menggantinya dengan indeks numerik yang sesuai berdasarkan color_mapping. Hasilnya adalah sebuah list yang berisi indeks-indeks numerik.\n",
        "\n",
        "* tf.one_hot(numerical_indices, depth=5): Fungsi tf.one_hot dari TensorFlow digunakan untuk melakukan one-hot encoding.\n",
        " * numerical_indices: List yang berisi indeks-indeks numerik yang telah kita dapatkan sebelumnya.\n",
        " * depth=5: Menentukan jumlah kolom dalam vektor one-hot. Dalam hal ini, karena kita memiliki 5 warna, maka kita membutuhkan 5 kolom.\n",
        "\n",
        "sebenarnya ada cara yang lebih mudah yaitu menggunakan scikit learn, itu akan dijelaskan pada materi selanjutnya"
      ],
      "metadata": {
        "id": "n6rAuLWdth9M"
      }
    },
    {
      "cell_type": "markdown",
      "source": [
        "## LABEL ENCODING\n",
        "\n",
        "ini juga sudah pernah saya pelajari di materi machine learning tapi saya hanya ingin ulang sedikit saja. Label encoding adalah teknik yang lebih sederhana. Setiap kategori unik dalam data kategorikal akan dipetakan ke sebuah bilangan bulat. Misalnya, jika kita memiliki kategori warna dengan nilai \"merah\", \"hijau\", dan \"biru\", kita bisa memetakannya ke angka 0, 1, dan 2.\n",
        "\n",
        "sebenarnya ini tidak jauh berbeda dengan one hot encoding, namun label encoding lebih efisien, tidak banyak memakan tempat dan hemat kolom (jika itu di pandas)"
      ],
      "metadata": {
        "id": "jE_G9bcpq3-r"
      }
    },
    {
      "cell_type": "code",
      "source": [
        "# kita pakai list yang sama dengan list one hot encoding\n",
        "# kita import dulu library scikit learn nya, wajib import scikit learn\n",
        "\n",
        "from sklearn.preprocessing import LabelEncoder\n",
        "label_encoder = LabelEncoder()\n",
        "label_encoding = label_encoder.fit_transform(list_1)\n",
        "label_encoding"
      ],
      "metadata": {
        "colab": {
          "base_uri": "https://localhost:8080/"
        },
        "id": "eexpIQFprHQZ",
        "outputId": "749e222b-1f5b-4d84-d5d1-f937e1dfd7bc"
      },
      "execution_count": null,
      "outputs": [
        {
          "output_type": "execute_result",
          "data": {
            "text/plain": [
              "array([3, 1, 0, 2, 4])"
            ]
          },
          "metadata": {},
          "execution_count": 53
        }
      ]
    },
    {
      "cell_type": "markdown",
      "source": [
        "hasilnya tidak jauh berbeda dan lebih singkat"
      ],
      "metadata": {
        "id": "pjKs8ZBUuva5"
      }
    },
    {
      "cell_type": "markdown",
      "source": [
        "## KUADRAT, AKAR KUADRAT DAN LOG\n",
        "\n",
        "kali ini saya akan menggunakan operasi matematika seperti kuadrat, akar kuadrat, dan log di tensorflow"
      ],
      "metadata": {
        "id": "gghem3muqBXQ"
      }
    },
    {
      "cell_type": "code",
      "source": [
        "# kita buat tensornya dahulu\n",
        "tensor_ex4 = tf.constant(np.arange(1, 11, dtype=np.int32))\n",
        "tensor_ex4"
      ],
      "metadata": {
        "colab": {
          "base_uri": "https://localhost:8080/"
        },
        "id": "57nnPETsqTJr",
        "outputId": "4dc9166c-ec87-48b8-8772-73837a6b7f09"
      },
      "execution_count": null,
      "outputs": [
        {
          "output_type": "execute_result",
          "data": {
            "text/plain": [
              "<tf.Tensor: shape=(10,), dtype=int32, numpy=array([ 1,  2,  3,  4,  5,  6,  7,  8,  9, 10], dtype=int32)>"
            ]
          },
          "metadata": {},
          "execution_count": 54
        }
      ]
    },
    {
      "cell_type": "code",
      "source": [
        "# kita coba kuadratkan\n",
        "kuadrat_otomatis = tf.square(tensor_ex4)\n",
        "\n",
        "kuadrat_manual = tensor_ex4 ** 2\n",
        "\n",
        "print(f\"kuadrat otomatis : \\n{kuadrat_otomatis}\")\n",
        "print(f\"kuadrat manual : \\n{kuadrat_manual}\")"
      ],
      "metadata": {
        "colab": {
          "base_uri": "https://localhost:8080/"
        },
        "id": "1Yborp8Kqp5e",
        "outputId": "2841b99d-5054-41f9-feb5-cd7aa993abe6"
      },
      "execution_count": null,
      "outputs": [
        {
          "output_type": "stream",
          "name": "stdout",
          "text": [
            "kuadrat otomatis : \n",
            "[  1   4   9  16  25  36  49  64  81 100]\n",
            "kuadrat manual : \n",
            "[  1   4   9  16  25  36  49  64  81 100]\n"
          ]
        }
      ]
    },
    {
      "cell_type": "markdown",
      "source": [
        "hasilnya sama namun cara nya lebih mudah yang otomatis"
      ],
      "metadata": {
        "id": "oBvg3_6GrJe_"
      }
    },
    {
      "cell_type": "code",
      "source": [
        "# kita coba akar kuadrat kan menggunakan tensor yang sudah kita kuadratkan\n",
        "akar_otomatis = tf.sqrt(tf.cast(kuadrat_otomatis, dtype=tf.float32))\n",
        "\n",
        "kuadrat_manual = tf.cast(kuadrat_manual, dtype=tf.float32) # mengubah tipe data ke float32 agar bisa di akar kan\n",
        "akar_manual = kuadrat_manual ** 0.5 # ini sama seperti kita mengakar kuadrat bilangan\n",
        "\n",
        "print(f\"akar otomatis : \\n{akar_otomatis}\")\n",
        "print(f\"akar manual : \\n{akar_manual}\")"
      ],
      "metadata": {
        "colab": {
          "base_uri": "https://localhost:8080/"
        },
        "id": "3Urq7ygSrPAF",
        "outputId": "ecbccf21-9150-43e2-fd4d-d7daa269a2fb"
      },
      "execution_count": null,
      "outputs": [
        {
          "output_type": "stream",
          "name": "stdout",
          "text": [
            "akar otomatis : \n",
            "[ 1.  2.  3.  4.  5.  6.  7.  8.  9. 10.]\n",
            "akar manual : \n",
            "[ 1.  2.  3.  4.  5.  6.  7.  8.  9. 10.]\n"
          ]
        }
      ]
    },
    {
      "cell_type": "markdown",
      "source": [
        "syarat untuk mengakarkan bilangan kuadrat di tensorflow, tipe datanya harus tf.float32, dan itu bisa diubah menggunakan tf.cast"
      ],
      "metadata": {
        "id": "2BwP8sckslN7"
      }
    },
    {
      "cell_type": "code",
      "source": [
        "# kita coba log kan tensornya\n",
        "log_otomatis = tf.math.log(tf.cast(tensor_ex4, dtype=tf.float32)) # Cast tensor_ex4 to tf.float32\n",
        "log_otomatis"
      ],
      "metadata": {
        "colab": {
          "base_uri": "https://localhost:8080/"
        },
        "id": "iAqzkVqGs_tg",
        "outputId": "3531432e-805e-450a-9267-4e4013a19577"
      },
      "execution_count": null,
      "outputs": [
        {
          "output_type": "execute_result",
          "data": {
            "text/plain": [
              "<tf.Tensor: shape=(10,), dtype=float32, numpy=\n",
              "array([0.       , 0.6931472, 1.0986123, 1.3862944, 1.609438 , 1.7917595,\n",
              "       1.9459102, 2.0794415, 2.1972246, 2.3025851], dtype=float32)>"
            ]
          },
          "metadata": {},
          "execution_count": 57
        }
      ]
    },
    {
      "cell_type": "markdown",
      "source": [
        "sama seperti akar kuadrat, syarat log di tensorflow adalah tipe datanya harus tf.float32, dan itu bisa diubah menggunakan tf.cast"
      ],
      "metadata": {
        "id": "QND4DA3gtk6R"
      }
    },
    {
      "cell_type": "markdown",
      "source": [
        "## MENGUBAH TENSOR KE NUMPY DAN NUMPY KE TENSOR\n",
        "\n",
        "kita bisa mengubah tensor ke numpy dan numpy ke tensor"
      ],
      "metadata": {
        "id": "4tkubKA8t2UJ"
      }
    },
    {
      "cell_type": "code",
      "source": [
        "# kita buat tensornya dahulu menggunakan np.array (kalau mau pakai np.arange pun juga bisa)\n",
        "tensor_ex5 = tf.constant(np.array([1, 2, 3, 4, 5, 6, 7, 8, 9, 10]))\n",
        "tensor_ex5, tensor_ex5.dtype"
      ],
      "metadata": {
        "colab": {
          "base_uri": "https://localhost:8080/"
        },
        "id": "984vVMsTuK8y",
        "outputId": "46083739-fa64-481f-8fc9-f2d952197148"
      },
      "execution_count": null,
      "outputs": [
        {
          "output_type": "execute_result",
          "data": {
            "text/plain": [
              "(<tf.Tensor: shape=(10,), dtype=int64, numpy=array([ 1,  2,  3,  4,  5,  6,  7,  8,  9, 10])>,\n",
              " tf.int64)"
            ]
          },
          "metadata": {},
          "execution_count": 58
        }
      ]
    },
    {
      "cell_type": "code",
      "source": [
        "# kita ubah tensornya ke numpy\n",
        "numpy_ex = tensor_ex5.numpy()\n",
        "numpy_ex, numpy_ex.dtype"
      ],
      "metadata": {
        "colab": {
          "base_uri": "https://localhost:8080/"
        },
        "id": "lF2Q3pVyvGzA",
        "outputId": "ad02a406-4e8d-46b2-afcf-34ae2094cdf4"
      },
      "execution_count": null,
      "outputs": [
        {
          "output_type": "execute_result",
          "data": {
            "text/plain": [
              "(array([ 1,  2,  3,  4,  5,  6,  7,  8,  9, 10]), dtype('int64'))"
            ]
          },
          "metadata": {},
          "execution_count": 59
        }
      ]
    },
    {
      "cell_type": "code",
      "source": [
        "# lalu kita ubah numpy ke tensor lagi\n",
        "tensor_ex6 = tf.constant(numpy_ex)\n",
        "tensor_ex6, tensor_ex6.dtype"
      ],
      "metadata": {
        "colab": {
          "base_uri": "https://localhost:8080/"
        },
        "id": "V8toAifDvfVE",
        "outputId": "e158d38d-cace-4c04-981a-0004cad7642f"
      },
      "execution_count": null,
      "outputs": [
        {
          "output_type": "execute_result",
          "data": {
            "text/plain": [
              "(<tf.Tensor: shape=(10,), dtype=int64, numpy=array([ 1,  2,  3,  4,  5,  6,  7,  8,  9, 10])>,\n",
              " tf.int64)"
            ]
          },
          "metadata": {},
          "execution_count": 60
        }
      ]
    }
  ]
}