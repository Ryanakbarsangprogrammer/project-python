{
 "cells": [
  {
   "cell_type": "code",
   "execution_count": null,
   "id": "4dc8b423-1b5c-47db-b780-4e6423673325",
   "metadata": {},
   "outputs": [],
   "source": [
    "# pada kali ini saya akan belajar k fold cross validation\n",
    "# sebenarnya saya tidak terlalu paham tentang ini, jadi jika saya tidak tau, saya bisa menonton di youtube codebasic\n",
    "# Tapi yang saya tau fungsinya adalah untuk membandingkan metode logika mana yang paling bagus untuk prediksi\n",
    "# Yang skor nya paling tinggi itulah yang bagus untuk dipakai\n",
    "# kita pakai 4 metode logika untuk membandingkannya\n",
    "# pertama kita import library nya dulu\n",
    "\n",
    "from sklearn.linear_model import LogisticRegression\n",
    "from sklearn.svm import SVC\n",
    "from sklearn.ensemble import RandomForestClassifier\n",
    "from sklearn.tree import DecisionTreeClassifier\n",
    "import numpy as np\n",
    "from sklearn.model_selection import cross_val_score\n",
    "from sklearn.datasets import load_iris\n",
    "\n",
    "# kita pakai dataset iris untuk contoh\n",
    "iris = load_iris()\n",
    "dir(iris)"
   ]
  },
  {
   "cell_type": "markdown",
   "id": "303c6a78-f6b1-4029-969b-913632fa3583",
   "metadata": {},
   "source": [
    "## LogisticRegression"
   ]
  },
  {
   "cell_type": "code",
   "execution_count": 6,
   "id": "83a2d9e8-afd1-4eff-ac1a-0e6d1ea32b77",
   "metadata": {},
   "outputs": [
    {
     "name": "stderr",
     "output_type": "stream",
     "text": [
      "C:\\Users\\Ryan Akbar\\AppData\\Local\\Programs\\Python\\Python311\\Lib\\site-packages\\sklearn\\linear_model\\_logistic.py:460: ConvergenceWarning: lbfgs failed to converge (status=1):\n",
      "STOP: TOTAL NO. of ITERATIONS REACHED LIMIT.\n",
      "\n",
      "Increase the number of iterations (max_iter) or scale the data as shown in:\n",
      "    https://scikit-learn.org/stable/modules/preprocessing.html\n",
      "Please also refer to the documentation for alternative solver options:\n",
      "    https://scikit-learn.org/stable/modules/linear_model.html#logistic-regression\n",
      "  n_iter_i = _check_optimize_result(\n"
     ]
    },
    {
     "data": {
      "text/plain": [
       "array([0.96666667, 1.        , 0.93333333, 0.96666667, 1.        ])"
      ]
     },
     "execution_count": 6,
     "metadata": {},
     "output_type": "execute_result"
    }
   ],
   "source": [
    "lg = cross_val_score(LogisticRegression(), iris.data, iris.target)\n",
    "lg"
   ]
  },
  {
   "cell_type": "code",
   "execution_count": 7,
   "id": "fb1ea17d-cf48-42ec-801c-d8cd8d46a5d2",
   "metadata": {},
   "outputs": [
    {
     "data": {
      "text/plain": [
       "0.9733333333333334"
      ]
     },
     "execution_count": 7,
     "metadata": {},
     "output_type": "execute_result"
    }
   ],
   "source": [
    "# kita pakai ini untuk menghitung rata rata skor di atas\n",
    "np.average(lg)"
   ]
  },
  {
   "cell_type": "markdown",
   "id": "a5f2454b-6035-4815-864c-1bf94c3a1702",
   "metadata": {},
   "source": [
    "## Support Vector Machine"
   ]
  },
  {
   "cell_type": "code",
   "execution_count": 8,
   "id": "49a5eb57-07f3-4e97-95c6-85ab31279345",
   "metadata": {},
   "outputs": [
    {
     "data": {
      "text/plain": [
       "array([0.96666667, 0.96666667, 0.96666667, 0.93333333, 1.        ])"
      ]
     },
     "execution_count": 8,
     "metadata": {},
     "output_type": "execute_result"
    }
   ],
   "source": [
    "svm = cross_val_score(SVC(), iris.data, iris.target)\n",
    "svm"
   ]
  },
  {
   "cell_type": "code",
   "execution_count": 9,
   "id": "dc2a5d2d-6fdf-496b-b7b5-7192bf026463",
   "metadata": {},
   "outputs": [
    {
     "data": {
      "text/plain": [
       "0.9666666666666666"
      ]
     },
     "execution_count": 9,
     "metadata": {},
     "output_type": "execute_result"
    }
   ],
   "source": [
    "np.average(svm)"
   ]
  },
  {
   "cell_type": "markdown",
   "id": "cfacef91-5f87-48d2-b2bb-32a2f27bc672",
   "metadata": {},
   "source": [
    "## RandomForestClassifier"
   ]
  },
  {
   "cell_type": "code",
   "execution_count": 10,
   "id": "e6e81d61-6339-401e-a8f2-8bfd0d5aa0fb",
   "metadata": {},
   "outputs": [
    {
     "data": {
      "text/plain": [
       "array([0.96666667, 0.96666667, 0.93333333, 0.93333333, 1.        ])"
      ]
     },
     "execution_count": 10,
     "metadata": {},
     "output_type": "execute_result"
    }
   ],
   "source": [
    "rfc = cross_val_score(RandomForestClassifier(), iris.data, iris.target)\n",
    "rfc"
   ]
  },
  {
   "cell_type": "code",
   "execution_count": 11,
   "id": "c79a32a9-f86e-4b67-97a7-3d0eb2e69474",
   "metadata": {},
   "outputs": [
    {
     "data": {
      "text/plain": [
       "0.96"
      ]
     },
     "execution_count": 11,
     "metadata": {},
     "output_type": "execute_result"
    }
   ],
   "source": [
    "np.average(rfc)"
   ]
  },
  {
   "cell_type": "markdown",
   "id": "260ab311-5046-4bac-926f-fcea1e0d051c",
   "metadata": {},
   "source": [
    "## DecisionTree"
   ]
  },
  {
   "cell_type": "code",
   "execution_count": 12,
   "id": "ffce28f1-6c75-4720-85c0-071861d20921",
   "metadata": {},
   "outputs": [
    {
     "data": {
      "text/plain": [
       "array([0.96666667, 0.96666667, 0.9       , 0.96666667, 1.        ])"
      ]
     },
     "execution_count": 12,
     "metadata": {},
     "output_type": "execute_result"
    }
   ],
   "source": [
    "tree = cross_val_score(DecisionTreeClassifier(), iris.data, iris.target)\n",
    "tree"
   ]
  },
  {
   "cell_type": "code",
   "execution_count": 13,
   "id": "b1b6b694-1edd-45ac-8b5e-f56cf27173b4",
   "metadata": {},
   "outputs": [
    {
     "data": {
      "text/plain": [
       "0.9600000000000002"
      ]
     },
     "execution_count": 13,
     "metadata": {},
     "output_type": "execute_result"
    }
   ],
   "source": [
    "np.average(tree)"
   ]
  },
  {
   "cell_type": "code",
   "execution_count": null,
   "id": "e1e71eb4-7ce3-443d-b89c-b2e1c19bb599",
   "metadata": {},
   "outputs": [],
   "source": []
  }
 ],
 "metadata": {
  "kernelspec": {
   "display_name": "Python 3 (ipykernel)",
   "language": "python",
   "name": "python3"
  },
  "language_info": {
   "codemirror_mode": {
    "name": "ipython",
    "version": 3
   },
   "file_extension": ".py",
   "mimetype": "text/x-python",
   "name": "python",
   "nbconvert_exporter": "python",
   "pygments_lexer": "ipython3",
   "version": "3.11.1"
  }
 },
 "nbformat": 4,
 "nbformat_minor": 5
}
